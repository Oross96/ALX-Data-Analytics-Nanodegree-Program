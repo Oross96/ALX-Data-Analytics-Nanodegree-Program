{
 "cells": [
  {
   "cell_type": "markdown",
   "metadata": {
    "slideshow": {
     "slide_type": "slide"
    }
   },
   "source": [
    "# Part II - (Exploration Fifa World Cup)\n",
    "## by (Onke Spengane)"
   ]
  },
  {
   "cell_type": "markdown",
   "metadata": {
    "slideshow": {
     "slide_type": "slide"
    }
   },
   "source": [
    "## Investigation Overview\n",
    "\n",
    "The presentation focuses on three things continents, countries and participation. I began by presenting nations with the most elevated appearance, then a bunch of plots which show the connection between countries and continents. Finally, I presented plots with participation as the area of concentration\n",
    "\n",
    "\n",
    "## Dataset Overview\n",
    "\n",
    "This project highlights three datasets downloaded from Kaggle (Data Source). The first dataset contains essential match data, for example, the home team's continent, stadium, city, ref name, etc. The second dataset contains player data, for example, player name, position, etc. The last dataset includes data about the competition, for example, the champs, other participants, matches played, goals scored and so on."
   ]
  },
  {
   "cell_type": "code",
   "execution_count": 55,
   "metadata": {
    "slideshow": {
     "slide_type": "skip"
    }
   },
   "outputs": [],
   "source": [
    "# import all packages and set plots to be embedded inline\n",
    "import numpy as np\n",
    "import pandas as pd\n",
    "import matplotlib.pyplot as plt\n",
    "import seaborn as sb\n",
    "\n",
    "%matplotlib inline\n",
    "\n",
    "# suppress warnings from final output\n",
    "import warnings\n",
    "warnings.simplefilter(\"ignore\")"
   ]
  },
  {
   "cell_type": "code",
   "execution_count": 56,
   "metadata": {
    "slideshow": {
     "slide_type": "skip"
    }
   },
   "outputs": [],
   "source": [
    "# load in the dataset into a pandas dataframe\n",
    "worldCup_matches_df = pd.read_csv('./fifa-world-cup/WorldCupMatches.csv')\n",
    "worldCup_players_df = pd.read_csv('./fifa-world-cup/WorldCupPlayers.csv')\n",
    "worldCup_df = pd.read_csv('./fifa-world-cup/WorldCups.csv')"
   ]
  },
  {
   "cell_type": "markdown",
   "metadata": {
    "slideshow": {
     "slide_type": "notes"
    }
   },
   "source": [
    "### Assessig data"
   ]
  },
  {
   "cell_type": "markdown",
   "metadata": {
    "slideshow": {
     "slide_type": "notes"
    }
   },
   "source": [
    "#### WorldCup_matches_df"
   ]
  },
  {
   "cell_type": "code",
   "execution_count": 57,
   "metadata": {},
   "outputs": [],
   "source": [
    "worldCup_matches_df.head();"
   ]
  },
  {
   "cell_type": "code",
   "execution_count": 104,
   "metadata": {
    "slideshow": {
     "slide_type": "skip"
    }
   },
   "outputs": [
    {
     "name": "stdout",
     "output_type": "stream",
     "text": [
      "<class 'pandas.core.frame.DataFrame'>\n",
      "RangeIndex: 4572 entries, 0 to 4571\n",
      "Data columns (total 20 columns):\n",
      " #   Column                Non-Null Count  Dtype  \n",
      "---  ------                --------------  -----  \n",
      " 0   Year                  852 non-null    float64\n",
      " 1   Datetime              852 non-null    object \n",
      " 2   Stage                 852 non-null    object \n",
      " 3   Stadium               852 non-null    object \n",
      " 4   City                  852 non-null    object \n",
      " 5   Home Team Name        852 non-null    object \n",
      " 6   Home Team Goals       852 non-null    float64\n",
      " 7   Away Team Goals       852 non-null    float64\n",
      " 8   Away Team Name        852 non-null    object \n",
      " 9   Win conditions        852 non-null    object \n",
      " 10  Attendance            850 non-null    float64\n",
      " 11  Half-time Home Goals  852 non-null    float64\n",
      " 12  Half-time Away Goals  852 non-null    float64\n",
      " 13  Referee               852 non-null    object \n",
      " 14  Assistant 1           852 non-null    object \n",
      " 15  Assistant 2           852 non-null    object \n",
      " 16  RoundID               852 non-null    float64\n",
      " 17  MatchID               852 non-null    float64\n",
      " 18  Home Team Initials    852 non-null    object \n",
      " 19  Away Team Initials    852 non-null    object \n",
      "dtypes: float64(8), object(12)\n",
      "memory usage: 714.5+ KB\n"
     ]
    }
   ],
   "source": [
    "worldCup_matches_df.info()"
   ]
  },
  {
   "cell_type": "code",
   "execution_count": 59,
   "metadata": {},
   "outputs": [],
   "source": [
    "match_duplicates_sum = sum(worldCup_matches_df.duplicated())\n",
    "match_duplicates_sum;"
   ]
  },
  {
   "cell_type": "code",
   "execution_count": 60,
   "metadata": {},
   "outputs": [],
   "source": [
    "worldCup_matches_df[worldCup_matches_df['Year'].isnull()];\n",
    "worldCup_matches_df.iloc[[850,851]];"
   ]
  },
  {
   "cell_type": "code",
   "execution_count": 61,
   "metadata": {},
   "outputs": [],
   "source": [
    "worldCup_matches_df.Stage.unique();\n",
    "worldCup_matches_df['Home Team Name'].unique();\n",
    "worldCup_matches_df['Away Team Name'].unique();\n",
    "len(worldCup_matches_df['Home Team Name'].unique());\n",
    "len(worldCup_matches_df['Away Team Name'].unique());"
   ]
  },
  {
   "cell_type": "markdown",
   "metadata": {
    "slideshow": {
     "slide_type": "skip"
    }
   },
   "source": [
    "#### WorldCup_players_df"
   ]
  },
  {
   "cell_type": "code",
   "execution_count": 62,
   "metadata": {
    "slideshow": {
     "slide_type": "skip"
    }
   },
   "outputs": [],
   "source": [
    "worldCup_players_df.head();"
   ]
  },
  {
   "cell_type": "code",
   "execution_count": 106,
   "metadata": {
    "slideshow": {
     "slide_type": "skip"
    }
   },
   "outputs": [
    {
     "name": "stdout",
     "output_type": "stream",
     "text": [
      "<class 'pandas.core.frame.DataFrame'>\n",
      "Int64Index: 37048 entries, 0 to 37047\n",
      "Data columns (total 9 columns):\n",
      " #   Column         Non-Null Count  Dtype \n",
      "---  ------         --------------  ----- \n",
      " 0   RoundID        37048 non-null  int64 \n",
      " 1   MatchID        37048 non-null  int64 \n",
      " 2   Team Initials  37048 non-null  object\n",
      " 3   Coach Name     37048 non-null  object\n",
      " 4   Line-up        37048 non-null  object\n",
      " 5   Shirt Number   37048 non-null  int64 \n",
      " 6   Player Name    37048 non-null  object\n",
      " 7   Position       4018 non-null   object\n",
      " 8   Event          8823 non-null   object\n",
      "dtypes: int64(3), object(6)\n",
      "memory usage: 2.8+ MB\n"
     ]
    }
   ],
   "source": [
    "worldCup_players_df.info()"
   ]
  },
  {
   "cell_type": "code",
   "execution_count": 64,
   "metadata": {},
   "outputs": [],
   "source": [
    "players_duplicate_sum = sum(worldCup_players_df.duplicated())\n",
    "players_duplicate_sum;"
   ]
  },
  {
   "cell_type": "markdown",
   "metadata": {
    "slideshow": {
     "slide_type": "skip"
    }
   },
   "source": [
    "#### WorldCup_df"
   ]
  },
  {
   "cell_type": "code",
   "execution_count": 65,
   "metadata": {},
   "outputs": [],
   "source": [
    "worldCup_df.head(20);"
   ]
  },
  {
   "cell_type": "code",
   "execution_count": 107,
   "metadata": {
    "slideshow": {
     "slide_type": "skip"
    }
   },
   "outputs": [
    {
     "name": "stdout",
     "output_type": "stream",
     "text": [
      "<class 'pandas.core.frame.DataFrame'>\n",
      "RangeIndex: 20 entries, 0 to 19\n",
      "Data columns (total 10 columns):\n",
      " #   Column          Non-Null Count  Dtype \n",
      "---  ------          --------------  ----- \n",
      " 0   Year            20 non-null     int64 \n",
      " 1   Host Country    20 non-null     object\n",
      " 2   Winner          20 non-null     object\n",
      " 3   Runners-Up      20 non-null     object\n",
      " 4   Third           20 non-null     object\n",
      " 5   Fourth          20 non-null     object\n",
      " 6   GoalsScored     20 non-null     int64 \n",
      " 7   QualifiedTeams  20 non-null     int64 \n",
      " 8   MatchesPlayed   20 non-null     int64 \n",
      " 9   Attendance      20 non-null     int64 \n",
      "dtypes: int64(5), object(5)\n",
      "memory usage: 1.7+ KB\n"
     ]
    }
   ],
   "source": [
    "worldCup_df.info()"
   ]
  },
  {
   "cell_type": "code",
   "execution_count": 67,
   "metadata": {},
   "outputs": [],
   "source": [
    "worldCup_df['Country'].unique();\n",
    "worldCup_df['Winner'].unique();\n",
    "worldCup_df['Runners-Up'].unique();\n",
    "worldCup_df['Third'].unique();\n",
    "worldCup_df['Fourth'].unique();"
   ]
  },
  {
   "cell_type": "markdown",
   "metadata": {
    "slideshow": {
     "slide_type": "notes"
    }
   },
   "source": [
    "I have assessed the data programmatically and visually displayed, I have identified some issues in the datasets, the following issues are addressed in the following cells."
   ]
  },
  {
   "cell_type": "markdown",
   "metadata": {
    "slideshow": {
     "slide_type": "notes"
    }
   },
   "source": [
    "#### WorldCup_match_df data\n",
    "\n",
    "- Stage column has inconsistent values\n",
    "- Some rows are duplicated\n",
    "- There are some datatype that are incorrect should be int instead of float\n",
    "- There is a lot of rows with NaN values"
   ]
  },
  {
   "cell_type": "markdown",
   "metadata": {
    "slideshow": {
     "slide_type": "notes"
    }
   },
   "source": [
    "#### WorldCup_players_df data\n",
    "\n",
    "- Some rows in the data are duplicated"
   ]
  },
  {
   "cell_type": "markdown",
   "metadata": {
    "slideshow": {
     "slide_type": "notes"
    }
   },
   "source": [
    "#### WorldCup_df data\n",
    "\n",
    "- The 'Attendence' column has got incorrect datatype"
   ]
  },
  {
   "cell_type": "markdown",
   "metadata": {
    "slideshow": {
     "slide_type": "skip"
    }
   },
   "source": [
    "### Cleaning data"
   ]
  },
  {
   "cell_type": "markdown",
   "metadata": {
    "slideshow": {
     "slide_type": "notes"
    }
   },
   "source": [
    "> Here will be tiding up and improving the quality of the datasets and try to make is as clean as possible."
   ]
  },
  {
   "cell_type": "code",
   "execution_count": 68,
   "metadata": {},
   "outputs": [],
   "source": [
    "matches_clean_df = worldCup_matches_df.copy()"
   ]
  },
  {
   "cell_type": "code",
   "execution_count": 69,
   "metadata": {},
   "outputs": [],
   "source": [
    "# dropping duplicated data\n",
    "\n",
    "matches_clean_df.drop_duplicates(inplace = True)"
   ]
  },
  {
   "cell_type": "code",
   "execution_count": 70,
   "metadata": {},
   "outputs": [],
   "source": [
    "# dropping rows with NaN values\n",
    "\n",
    "matches_clean_df.dropna(inplace = True)"
   ]
  },
  {
   "cell_type": "markdown",
   "metadata": {
    "slideshow": {
     "slide_type": "notes"
    }
   },
   "source": [
    "The stage column has got incosistent values will be replacing them so that we can have consistent values"
   ]
  },
  {
   "cell_type": "code",
   "execution_count": 71,
   "metadata": {},
   "outputs": [],
   "source": [
    "# inconsistent values are replace\n",
    "old_data_groups = ['Group 1', 'Group 2', 'Group 3', 'Group 4', 'Group 5', 'Group 6']\n",
    "\n",
    "new_data_groups = ['Group A', 'Group B', 'Group C', 'Group D', 'Group E', 'Group F'] \n",
    "\n",
    "old_stage_runUps = ['Match for third place', 'Play-off for third place']\n",
    "\n",
    "new_stage_runUps = 'Third place'\n",
    "\n",
    "matches_clean_df['Stage'].replace(old_data_groups, new_data_groups, inplace = True)\n",
    "\n",
    "matches_clean_df['Stage'].replace(old_stage_runUps, new_stage_runUps, inplace = True)"
   ]
  },
  {
   "cell_type": "markdown",
   "metadata": {
    "slideshow": {
     "slide_type": "notes"
    }
   },
   "source": [
    "As some column have incorrect datatypes will be sorting that out and will also change \"Datetime\" datatype to a differnt one."
   ]
  },
  {
   "cell_type": "code",
   "execution_count": 72,
   "metadata": {},
   "outputs": [],
   "source": [
    "# changing columns from float datatype to int\n",
    "\n",
    "for column in matches_clean_df.columns:\n",
    "    if matches_clean_df[column].dtype == float:\n",
    "        matches_clean_df[column] = matches_clean_df[column].astype(int)"
   ]
  },
  {
   "cell_type": "code",
   "execution_count": 73,
   "metadata": {},
   "outputs": [],
   "source": [
    "# changing column \"Datatime\" to a diffent datatype\n",
    "\n",
    "matches_clean_df.Datetime = pd.to_datetime(matches_clean_df.Datetime)"
   ]
  },
  {
   "cell_type": "code",
   "execution_count": 74,
   "metadata": {},
   "outputs": [],
   "source": [
    "# here will be extracting the month from 'Datatime' column\n",
    "\n",
    "months = {0: 'Jan', 2:'Feb', 3:'Mar', 4:'April', 5:'May', 6:'Jun', 7:'Jul', 8:'Aug', 9:'Sep', 10:'Oct', 11:'Nov', 12:'Dec'}\n",
    "\n",
    "matches_clean_df['Month'] = matches_clean_df['Datetime'].dt.month.map(months)"
   ]
  },
  {
   "cell_type": "markdown",
   "metadata": {
    "slideshow": {
     "slide_type": "notes"
    }
   },
   "source": [
    "I will be a adding a new columns to the matches_clean_df  which contains the corresponding continent of each country."
   ]
  },
  {
   "cell_type": "code",
   "execution_count": 75,
   "metadata": {},
   "outputs": [],
   "source": [
    "continents = pd.read_csv('https://raw.githubusercontent.com/dbouquin/IS_608/master/NanosatDB_munging/Countries-Continents.csv')"
   ]
  },
  {
   "cell_type": "code",
   "execution_count": 76,
   "metadata": {},
   "outputs": [],
   "source": [
    "continents.sample(5);"
   ]
  },
  {
   "cell_type": "markdown",
   "metadata": {
    "slideshow": {
     "slide_type": "notes"
    }
   },
   "source": [
    "Here I will be changing country names at the time of tournaments to new names"
   ]
  },
  {
   "cell_type": "code",
   "execution_count": 77,
   "metadata": {},
   "outputs": [],
   "source": [
    "old_country_name = ['rn\">United Arab Emirates', 'rn\">Republic of Ireland', \n",
    "            'rn\">Trinidad and Tobago', 'rn\">Serbia and Montenegro',\n",
    "            \"C�te d'Ivoire\", 'rn\">Bosnia and Herzegovina',\n",
    "           ]\n",
    "\n",
    "new_country_name = ['United Arab Emirates', 'Republic of Ireland', \n",
    "            'Trinidad and Tobago', 'Serbia and Montenegro',\n",
    "            \"Cote d'Ivoire\", 'Bosnia and Herzegovina',\n",
    "           ]\n",
    "    \n",
    "matches_clean_df[['Home Team Name', 'Away Team Name']] = (\n",
    "    matches_clean_df[['Home Team Name', 'Away Team Name']].replace(old_country_name, new_country_name)\n",
    ")"
   ]
  },
  {
   "cell_type": "markdown",
   "metadata": {
    "slideshow": {
     "slide_type": "skip"
    }
   },
   "source": [
    "The are countries with missing continents in the 'continent file', if any exist, will be are added manually."
   ]
  },
  {
   "cell_type": "code",
   "execution_count": 78,
   "metadata": {},
   "outputs": [],
   "source": [
    "home_countries = matches_clean_df['Home Team Name']\n",
    "\n",
    "away_countries = matches_clean_df['Away Team Name']"
   ]
  },
  {
   "cell_type": "code",
   "execution_count": 79,
   "metadata": {},
   "outputs": [],
   "source": [
    "missing_home = home_countries[~home_countries.isin(continents.Country)].unique()\n",
    "missing_home;"
   ]
  },
  {
   "cell_type": "code",
   "execution_count": 80,
   "metadata": {},
   "outputs": [],
   "source": [
    "missing_away = away_countries[~away_countries.isin(continents.Country)].unique()\n",
    "missing_away;"
   ]
  },
  {
   "cell_type": "code",
   "execution_count": 81,
   "metadata": {},
   "outputs": [],
   "source": [
    "additional_continents = {'England': 'Europe', 'Wales': 'Europe', 'Scotland': 'Europe', \n",
    "                         'Republic of Ireland': 'Europe', 'Northern Ireland': 'Europe',\n",
    "                         'USA': 'North America', 'Congo DR': 'Africa', \n",
    "                         \"Cote d'Ivoire\": 'Africa', 'Korea DPR': 'Asia',\n",
    "                         'Dutch East Indies': 'Asia', 'Korea Republic': 'Asia',\n",
    "                         'Germany FR': 'Europe', 'Soviet Union': 'Asia', \n",
    "                         'German DR': 'Europe', 'Zaire': 'Africa', 'Russia': 'Asia', \n",
    "                         'China PR': 'Asia', 'Czech Republic': 'Europe',\n",
    "                         'Serbia and Montenegro': 'Europe', 'IR Iran': 'Asia',\n",
    "                         'Yugoslavia': 'Europe', 'Czechoslovakia': 'Europe'\n",
    "                        }\n"
   ]
  },
  {
   "cell_type": "code",
   "execution_count": 82,
   "metadata": {},
   "outputs": [],
   "source": [
    "# here I will be convert additional_contents to dataframe\n",
    "\n",
    "additional_continents_df = pd.DataFrame(additional_continents.items(), columns=['Country', 'Continent'])\n",
    "additional_continents_df;\n"
   ]
  },
  {
   "cell_type": "code",
   "execution_count": 83,
   "metadata": {},
   "outputs": [],
   "source": [
    "# here will be adding 'additional_continents_df' to 'continents'\n",
    "continent = continents.append(additional_continents_df)\n",
    "continent;"
   ]
  },
  {
   "cell_type": "code",
   "execution_count": 84,
   "metadata": {},
   "outputs": [],
   "source": [
    "# here will create two new columns corresponding to the continents of Home and Away countries on the data that we already have.\n",
    "\n",
    "matches_clean_df = pd.merge(continent, matches_clean_df, right_on = 'Home Team Name', left_on = 'Country')\n",
    "\n",
    "matches_clean_df = pd.merge(continent, matches_clean_df, right_on = 'Away Team Name', left_on = 'Country')\n",
    "matches_clean_df;"
   ]
  },
  {
   "cell_type": "code",
   "execution_count": 85,
   "metadata": {},
   "outputs": [],
   "source": [
    "# renaming columns\n",
    "\n",
    "matches_clean_df.rename(columns = {'Continent_x' : 'Away Team Continent', 'Continent_y' : 'Home Team Continent'}, inplace = True) "
   ]
  },
  {
   "cell_type": "code",
   "execution_count": 86,
   "metadata": {},
   "outputs": [],
   "source": [
    "# droping unwanted columns columns\n",
    "\n",
    "matches_clean_df.drop(columns = ['Country_x', 'Country_y'], inplace = True)\n",
    "matches_clean_df;"
   ]
  },
  {
   "cell_type": "code",
   "execution_count": 87,
   "metadata": {},
   "outputs": [],
   "source": [
    "players_clean_df = worldCup_players_df"
   ]
  },
  {
   "cell_type": "code",
   "execution_count": 88,
   "metadata": {},
   "outputs": [],
   "source": [
    "# drop duplicates\n",
    "players_clean_df.drop_duplicates(inplace = True)"
   ]
  },
  {
   "cell_type": "code",
   "execution_count": 108,
   "metadata": {
    "slideshow": {
     "slide_type": "skip"
    }
   },
   "outputs": [
    {
     "name": "stdout",
     "output_type": "stream",
     "text": [
      "<class 'pandas.core.frame.DataFrame'>\n",
      "Int64Index: 37048 entries, 0 to 37047\n",
      "Data columns (total 9 columns):\n",
      " #   Column         Non-Null Count  Dtype \n",
      "---  ------         --------------  ----- \n",
      " 0   RoundID        37048 non-null  int64 \n",
      " 1   MatchID        37048 non-null  int64 \n",
      " 2   Team Initials  37048 non-null  object\n",
      " 3   Coach Name     37048 non-null  object\n",
      " 4   Line-up        37048 non-null  object\n",
      " 5   Shirt Number   37048 non-null  int64 \n",
      " 6   Player Name    37048 non-null  object\n",
      " 7   Position       4018 non-null   object\n",
      " 8   Event          8823 non-null   object\n",
      "dtypes: int64(3), object(6)\n",
      "memory usage: 2.8+ MB\n"
     ]
    }
   ],
   "source": [
    "players_clean_df.info();"
   ]
  },
  {
   "cell_type": "markdown",
   "metadata": {},
   "source": [
    "Here will be sorting attendance values by year."
   ]
  },
  {
   "cell_type": "code",
   "execution_count": 90,
   "metadata": {},
   "outputs": [],
   "source": [
    "worldCup_clean_df = worldCup_df"
   ]
  },
  {
   "cell_type": "code",
   "execution_count": 91,
   "metadata": {},
   "outputs": [],
   "source": [
    "sort_attendance = list(matches_clean_df.query('Stage == \"Final\"').sort_values(by= \"Year\").Attendance.values)\n",
    "sort_attendance.insert(3, 173850)\n"
   ]
  },
  {
   "cell_type": "code",
   "execution_count": 92,
   "metadata": {},
   "outputs": [],
   "source": [
    "worldCup_clean_df[\"Attendance\"] = sort_attendance\n",
    "worldCup_clean_df;"
   ]
  },
  {
   "cell_type": "code",
   "execution_count": 93,
   "metadata": {},
   "outputs": [],
   "source": [
    "# will be renaming 'Country' column in 'world_clean_df' to avoid overlapping when merging\n",
    "\n",
    "worldCup_clean_df.rename(columns = {'Country': 'Host Country'}, inplace = True)"
   ]
  },
  {
   "cell_type": "code",
   "execution_count": 94,
   "metadata": {},
   "outputs": [],
   "source": [
    "columns = ['Winner', 'Runners-Up', 'Third', 'Fourth']\n",
    "\n",
    "for column in columns:\n",
    "    worldCup_clean_df= pd.merge(continent, worldCup_clean_df, right_on = column, left_on = 'Country')\n",
    "    worldCup_clean_df.drop('Country', axis = 1, inplace = True)\n",
    "    new_name = column + ' Continent'\n",
    "    worldCup_clean_df.rename(columns = {'Continent': new_name}, inplace = True)\n",
    "\n",
    "worldCup_clean_df.head();"
   ]
  },
  {
   "cell_type": "code",
   "execution_count": 109,
   "metadata": {
    "slideshow": {
     "slide_type": "skip"
    }
   },
   "outputs": [
    {
     "name": "stdout",
     "output_type": "stream",
     "text": [
      "<class 'pandas.core.frame.DataFrame'>\n",
      "Int64Index: 20 entries, 0 to 19\n",
      "Data columns (total 14 columns):\n",
      " #   Column                Non-Null Count  Dtype \n",
      "---  ------                --------------  ----- \n",
      " 0   Fourth Continent      20 non-null     object\n",
      " 1   Third Continent       20 non-null     object\n",
      " 2   Runners-Up Continent  20 non-null     object\n",
      " 3   Winner Continent      20 non-null     object\n",
      " 4   Year                  20 non-null     int64 \n",
      " 5   Host Country          20 non-null     object\n",
      " 6   Winner                20 non-null     object\n",
      " 7   Runners-Up            20 non-null     object\n",
      " 8   Third                 20 non-null     object\n",
      " 9   Fourth                20 non-null     object\n",
      " 10  GoalsScored           20 non-null     int64 \n",
      " 11  QualifiedTeams        20 non-null     int64 \n",
      " 12  MatchesPlayed         20 non-null     int64 \n",
      " 13  Attendance            20 non-null     int64 \n",
      "dtypes: int64(5), object(9)\n",
      "memory usage: 2.3+ KB\n"
     ]
    }
   ],
   "source": [
    "worldCup_clean_df.info()"
   ]
  },
  {
   "cell_type": "markdown",
   "metadata": {
    "slideshow": {
     "slide_type": "slide"
    }
   },
   "source": [
    "## What number of counties from the different continents have participated in the FIFA World Cup?\n",
    "\n",
    "Countries from the Europe continet have the most apperances in the FIFA World Cup over the years."
   ]
  },
  {
   "cell_type": "code",
   "execution_count": 96,
   "metadata": {
    "slideshow": {
     "slide_type": "subslide"
    }
   },
   "outputs": [],
   "source": [
    "top_participants_continent = (matches_clean_df\n",
    "                   .groupby(['Year', 'Away Team Name', 'Away Team Continent'], as_index=False)\n",
    "                   .count()['Away Team Continent']\n",
    "                   .value_counts()\n",
    "                   .head()\n",
    "                  )"
   ]
  },
  {
   "cell_type": "code",
   "execution_count": 97,
   "metadata": {},
   "outputs": [
    {
     "data": {
      "text/plain": [
       "Europe           210\n",
       "South America     73\n",
       "Asia              44\n",
       "North America     39\n",
       "Africa            39\n",
       "Name: Away Team Continent, dtype: int64"
      ]
     },
     "metadata": {},
     "output_type": "display_data"
    },
    {
     "data": {
      "image/png": "[encoded data removed]",
      "text/plain": [
       "<Figure size 432x288 with 1 Axes>"
      ]
     },
     "metadata": {
      "needs_background": "light"
     },
     "output_type": "display_data"
    }
   ],
   "source": [
    "base_color = sb.color_palette()[1]\n",
    "display(top_participants_continent)\n",
    "sb.barplot(top_participants_continent.index, top_participants_continent, color=base_color)\n",
    "plt.xlabel('Continent')\n",
    "plt.ylabel('Number of Appearance')\n",
    "plt.title('Different Country Appearances in the FIFA World Cup by Continent');"
   ]
  },
  {
   "cell_type": "markdown",
   "metadata": {
    "collapsed": true,
    "slideshow": {
     "slide_type": "slide"
    }
   },
   "source": [
    "### What impact does a country's continent have on the appearance of spectators?\n",
    "\n",
    "countries in South America has better turn out of spectators than others over the years of the FIFA World Cup tournament."
   ]
  },
  {
   "cell_type": "code",
   "execution_count": 98,
   "metadata": {
    "slideshow": {
     "slide_type": "subslide"
    }
   },
   "outputs": [
    {
     "data": {
      "image/png": "[encoded data removed]",
      "text/plain": [
       "<Figure size 576x288 with 1 Axes>"
      ]
     },
     "metadata": {
      "needs_background": "light"
     },
     "output_type": "display_data"
    }
   ],
   "source": [
    "display_color = sb.color_palette()[7]\n",
    "plt.figure(figsize = (8, 4))\n",
    "sb.stripplot(data = matches_clean_df, x = 'Home Team Continent', y = 'Attendance', color = display_color, jitter = 0.35)\n",
    "plt.xticks(rotation = 15);"
   ]
  },
  {
   "cell_type": "code",
   "execution_count": 99,
   "metadata": {},
   "outputs": [
    {
     "data": {
      "image/png": "[encoded data removed]",
      "text/plain": [
       "<Figure size 576x288 with 1 Axes>"
      ]
     },
     "metadata": {
      "needs_background": "light"
     },
     "output_type": "display_data"
    }
   ],
   "source": [
    "plt.figure(figsize = (8, 4))\n",
    "sb.violinplot(data = matches_clean_df, x = 'Home Team Continent', y = 'Attendance', color = display_color, inner = None)\n",
    "plt.xticks(rotation = 15);"
   ]
  },
  {
   "cell_type": "markdown",
   "metadata": {
    "slideshow": {
     "slide_type": "slide"
    }
   },
   "source": [
    "### Which country has the highest number of FIFA World Cup trophies?\n",
    "\n",
    "Brazil a country in South America has the most FIFA World Cup trophies than other countries over the years of the tournament."
   ]
  },
  {
   "cell_type": "code",
   "execution_count": 100,
   "metadata": {
    "slideshow": {
     "slide_type": "subslide"
    }
   },
   "outputs": [
    {
     "data": {
      "text/plain": [
       "Brazil        5\n",
       "Italy         4\n",
       "Germany FR    3\n",
       "Argentina     2\n",
       "Uruguay       2\n",
       "Name: Winner, dtype: int64"
      ]
     },
     "metadata": {},
     "output_type": "display_data"
    },
    {
     "data": {
      "image/png": "[encoded data removed]",
      "text/plain": [
       "<Figure size 432x288 with 1 Axes>"
      ]
     },
     "metadata": {
      "needs_background": "light"
     },
     "output_type": "display_data"
    }
   ],
   "source": [
    "winners = worldCup_clean_df.Winner.value_counts()\n",
    "display(winners.head())\n",
    "sb.countplot(data = worldCup_clean_df, y ='Winner', hue = 'Winner Continent', order = winners.index, color = sb.color_palette()[9] )\n",
    "plt.title('Country with most FIFA World Cup titles');"
   ]
  },
  {
   "cell_type": "code",
   "execution_count": 110,
   "metadata": {
    "slideshow": {
     "slide_type": "skip"
    }
   },
   "outputs": [
    {
     "name": "stderr",
     "output_type": "stream",
     "text": [
      "[NbConvertApp] Converting notebook Part_II_Exploration_fifa_world_cup_slide_deck.ipynb to slides\n",
      "[NbConvertApp] Writing 716797 bytes to Part_II_Exploration_fifa_world_cup_slide_deck.slides.html\n",
      "[NbConvertApp] Redirecting reveal.js requests to https://cdnjs.cloudflare.com/ajax/libs/reveal.js/3.5.0\n",
      "Traceback (most recent call last):\n",
      "  File \"C:\\Users\\Anele\\anaconda3\\Scripts\\jupyter-nbconvert-script.py\", line 10, in <module>\n",
      "    sys.exit(main())\n",
      "  File \"C:\\Users\\Anele\\anaconda3\\lib\\site-packages\\jupyter_core\\application.py\", line 264, in launch_instance\n",
      "    return super(JupyterApp, cls).launch_instance(argv=argv, **kwargs)\n",
      "  File \"C:\\Users\\Anele\\anaconda3\\lib\\site-packages\\traitlets\\config\\application.py\", line 846, in launch_instance\n",
      "    app.start()\n",
      "  File \"C:\\Users\\Anele\\anaconda3\\lib\\site-packages\\nbconvert\\nbconvertapp.py\", line 369, in start\n",
      "    self.convert_notebooks()\n",
      "  File \"C:\\Users\\Anele\\anaconda3\\lib\\site-packages\\nbconvert\\nbconvertapp.py\", line 541, in convert_notebooks\n",
      "    self.convert_single_notebook(notebook_filename)\n",
      "  File \"C:\\Users\\Anele\\anaconda3\\lib\\site-packages\\nbconvert\\nbconvertapp.py\", line 508, in convert_single_notebook\n",
      "    self.postprocess_single_notebook(write_results)\n",
      "  File \"C:\\Users\\Anele\\anaconda3\\lib\\site-packages\\nbconvert\\nbconvertapp.py\", line 480, in postprocess_single_notebook\n",
      "    self.postprocessor(write_results)\n",
      "  File \"C:\\Users\\Anele\\anaconda3\\lib\\site-packages\\nbconvert\\postprocessors\\base.py\", line 28, in __call__\n",
      "    self.postprocess(input)\n",
      "  File \"C:\\Users\\Anele\\anaconda3\\lib\\site-packages\\nbconvert\\postprocessors\\serve.py\", line 90, in postprocess\n",
      "    http_server.listen(self.port, address=self.ip)\n",
      "  File \"C:\\Users\\Anele\\anaconda3\\lib\\site-packages\\tornado\\tcpserver.py\", line 151, in listen\n",
      "    sockets = bind_sockets(port, address=address)\n",
      "  File \"C:\\Users\\Anele\\anaconda3\\lib\\site-packages\\tornado\\netutil.py\", line 161, in bind_sockets\n",
      "    sock.bind(sockaddr)\n",
      "OSError: [WinError 10048] Only one usage of each socket address (protocol/network address/port) is normally permitted\n"
     ]
    }
   ],
   "source": [
    "# Use this command if you are running this file in local\n",
    "\n",
    "!jupyter nbconvert Part_II_Exploration_fifa_world_cup_slide_deck.ipynb --to slides --post serve --no-input --no-prompt"
   ]
  },
  {
   "cell_type": "code",
   "execution_count": null,
   "metadata": {},
   "outputs": [],
   "source": []
  }
 ],
 "metadata": {
  "celltoolbar": "Slideshow",
  "kernelspec": {
   "display_name": "Python 3 (ipykernel)",
   "language": "python",
   "name": "python3"
  },
  "language_info": {
   "codemirror_mode": {
    "name": "ipython",
    "version": 3
   },
   "file_extension": ".py",
   "mimetype": "text/x-python",
   "name": "python",
   "nbconvert_exporter": "python",
   "pygments_lexer": "ipython3",
   "version": "3.9.12"
  }
 },
 "nbformat": 4,
 "nbformat_minor": 2
}
