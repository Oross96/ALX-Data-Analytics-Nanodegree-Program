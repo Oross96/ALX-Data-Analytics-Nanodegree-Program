{
 "cells": [
  {
   "cell_type": "markdown",
   "id": "6a60de73",
   "metadata": {},
   "source": [
    "# Part I - (Dataset Exploration Fifa World Cup)\n",
    "## by (Onke Spengane)\n",
    "\n",
    "## Introduction\n",
    "\n",
    "The FIFA World Cup is a global affiliation football rivalry challenged by the senior men's public groups of individuals from the Fédération Internationale de Football Affiliation (FIFA), the game's worldwide administering body. The title has been granted like clockwork since the debut competition in 1930, in 1942 and 1946 when it was not held on account of World War two(WWII). The ongoing hero is France, which brought home its second championship at the 2018 competition in Russia.\n",
    "\n",
    "This project highlights three datasets downloaded from Kaggle (Data Source). The first dataset contains essential match data, for example, the home team's continent, stadium, city, ref name, etc. The second dataset contains player data, for example, player name, position, etc. The last dataset includes data about the competition, for example, the champs, other participants, matches played, goals scored and so on.\n",
    "\n",
    "\n",
    "## Preliminary Wrangling\n"
   ]
  },
  {
   "cell_type": "code",
   "execution_count": 283,
   "id": "39a6b904",
   "metadata": {},
   "outputs": [],
   "source": [
    "# import all packages and set plots to be embedded inline\n",
    "import numpy as np\n",
    "import pandas as pd\n",
    "import matplotlib.pyplot as plt\n",
    "import seaborn as sb\n",
    "import opendatasets as op;\n",
    "%matplotlib inline"
   ]
  },
  {
   "cell_type": "markdown",
   "id": "9390926a",
   "metadata": {},
   "source": [
    "### Downloading dataset from kaggle."
   ]
  },
  {
   "cell_type": "code",
   "execution_count": 284,
   "id": "18b67fdd",
   "metadata": {},
   "outputs": [
    {
     "name": "stdout",
     "output_type": "stream",
     "text": [
      "Skipping, found downloaded files in \".\\fifa-world-cup\" (use force=True to force download)\n"
     ]
    }
   ],
   "source": [
    "# download datasets programmatically  \n",
    "url = \"https://www.kaggle.com/datasets/abecklas/fifa-world-cup/download\"\n",
    "op.download(url, force=False)"
   ]
  },
  {
   "cell_type": "markdown",
   "id": "ef1be553",
   "metadata": {},
   "source": [
    "> Load in your dataset and describe its properties through the questions below. Try and motivate your exploration goals through this section.\n"
   ]
  },
  {
   "cell_type": "code",
   "execution_count": 285,
   "id": "83edcabf",
   "metadata": {},
   "outputs": [],
   "source": [
    "# load the three datasets into the pandas dataframe\n",
    "worldCup_matches_df = pd.read_csv('./fifa-world-cup/WorldCupMatches.csv')\n",
    "worldCup_players_df = pd.read_csv('./fifa-world-cup/WorldCupPlayers.csv')\n",
    "worldCup_df = pd.read_csv('./fifa-world-cup/WorldCups.csv')\n"
   ]
  },
  {
   "cell_type": "markdown",
   "id": "267da082",
   "metadata": {},
   "source": [
    "### Assessig data"
   ]
  },
  {
   "cell_type": "markdown",
   "id": "ab9ee56c",
   "metadata": {},
   "source": [
    "> Here will be assessing the datasets by checking for quality and tidiness."
   ]
  },
  {
   "cell_type": "markdown",
   "id": "6f72192d",
   "metadata": {},
   "source": [
    "#### WorldCup_matches_df"
   ]
  },
  {
   "cell_type": "code",
   "execution_count": 286,
   "id": "3b08f26a",
   "metadata": {},
   "outputs": [
    {
     "data": {
      "text/html": [
       "<div>\n",
       "<style scoped>\n",
       "    .dataframe tbody tr th:only-of-type {\n",
       "        vertical-align: middle;\n",
       "    }\n",
       "\n",
       "    .dataframe tbody tr th {\n",
       "        vertical-align: top;\n",
       "    }\n",
       "\n",
       "    .dataframe thead th {\n",
       "        text-align: right;\n",
       "    }\n",
       "</style>\n",
       "<table border=\"1\" class=\"dataframe\">\n",
       "  <thead>\n",
       "    <tr style=\"text-align: right;\">\n",
       "      <th></th>\n",
       "      <th>Year</th>\n",
       "      <th>Datetime</th>\n",
       "      <th>Stage</th>\n",
       "      <th>Stadium</th>\n",
       "      <th>City</th>\n",
       "      <th>Home Team Name</th>\n",
       "      <th>Home Team Goals</th>\n",
       "      <th>Away Team Goals</th>\n",
       "      <th>Away Team Name</th>\n",
       "      <th>Win conditions</th>\n",
       "      <th>Attendance</th>\n",
       "      <th>Half-time Home Goals</th>\n",
       "      <th>Half-time Away Goals</th>\n",
       "      <th>Referee</th>\n",
       "      <th>Assistant 1</th>\n",
       "      <th>Assistant 2</th>\n",
       "      <th>RoundID</th>\n",
       "      <th>MatchID</th>\n",
       "      <th>Home Team Initials</th>\n",
       "      <th>Away Team Initials</th>\n",
       "    </tr>\n",
       "  </thead>\n",
       "  <tbody>\n",
       "    <tr>\n",
       "      <th>0</th>\n",
       "      <td>1930.0</td>\n",
       "      <td>13 Jul 1930 - 15:00</td>\n",
       "      <td>Group 1</td>\n",
       "      <td>Pocitos</td>\n",
       "      <td>Montevideo</td>\n",
       "      <td>France</td>\n",
       "      <td>4.0</td>\n",
       "      <td>1.0</td>\n",
       "      <td>Mexico</td>\n",
       "      <td></td>\n",
       "      <td>4444.0</td>\n",
       "      <td>3.0</td>\n",
       "      <td>0.0</td>\n",
       "      <td>LOMBARDI Domingo (URU)</td>\n",
       "      <td>CRISTOPHE Henry (BEL)</td>\n",
       "      <td>REGO Gilberto (BRA)</td>\n",
       "      <td>201.0</td>\n",
       "      <td>1096.0</td>\n",
       "      <td>FRA</td>\n",
       "      <td>MEX</td>\n",
       "    </tr>\n",
       "    <tr>\n",
       "      <th>1</th>\n",
       "      <td>1930.0</td>\n",
       "      <td>13 Jul 1930 - 15:00</td>\n",
       "      <td>Group 4</td>\n",
       "      <td>Parque Central</td>\n",
       "      <td>Montevideo</td>\n",
       "      <td>USA</td>\n",
       "      <td>3.0</td>\n",
       "      <td>0.0</td>\n",
       "      <td>Belgium</td>\n",
       "      <td></td>\n",
       "      <td>18346.0</td>\n",
       "      <td>2.0</td>\n",
       "      <td>0.0</td>\n",
       "      <td>MACIAS Jose (ARG)</td>\n",
       "      <td>MATEUCCI Francisco (URU)</td>\n",
       "      <td>WARNKEN Alberto (CHI)</td>\n",
       "      <td>201.0</td>\n",
       "      <td>1090.0</td>\n",
       "      <td>USA</td>\n",
       "      <td>BEL</td>\n",
       "    </tr>\n",
       "    <tr>\n",
       "      <th>2</th>\n",
       "      <td>1930.0</td>\n",
       "      <td>14 Jul 1930 - 12:45</td>\n",
       "      <td>Group 2</td>\n",
       "      <td>Parque Central</td>\n",
       "      <td>Montevideo</td>\n",
       "      <td>Yugoslavia</td>\n",
       "      <td>2.0</td>\n",
       "      <td>1.0</td>\n",
       "      <td>Brazil</td>\n",
       "      <td></td>\n",
       "      <td>24059.0</td>\n",
       "      <td>2.0</td>\n",
       "      <td>0.0</td>\n",
       "      <td>TEJADA Anibal (URU)</td>\n",
       "      <td>VALLARINO Ricardo (URU)</td>\n",
       "      <td>BALWAY Thomas (FRA)</td>\n",
       "      <td>201.0</td>\n",
       "      <td>1093.0</td>\n",
       "      <td>YUG</td>\n",
       "      <td>BRA</td>\n",
       "    </tr>\n",
       "    <tr>\n",
       "      <th>3</th>\n",
       "      <td>1930.0</td>\n",
       "      <td>14 Jul 1930 - 14:50</td>\n",
       "      <td>Group 3</td>\n",
       "      <td>Pocitos</td>\n",
       "      <td>Montevideo</td>\n",
       "      <td>Romania</td>\n",
       "      <td>3.0</td>\n",
       "      <td>1.0</td>\n",
       "      <td>Peru</td>\n",
       "      <td></td>\n",
       "      <td>2549.0</td>\n",
       "      <td>1.0</td>\n",
       "      <td>0.0</td>\n",
       "      <td>WARNKEN Alberto (CHI)</td>\n",
       "      <td>LANGENUS Jean (BEL)</td>\n",
       "      <td>MATEUCCI Francisco (URU)</td>\n",
       "      <td>201.0</td>\n",
       "      <td>1098.0</td>\n",
       "      <td>ROU</td>\n",
       "      <td>PER</td>\n",
       "    </tr>\n",
       "    <tr>\n",
       "      <th>4</th>\n",
       "      <td>1930.0</td>\n",
       "      <td>15 Jul 1930 - 16:00</td>\n",
       "      <td>Group 1</td>\n",
       "      <td>Parque Central</td>\n",
       "      <td>Montevideo</td>\n",
       "      <td>Argentina</td>\n",
       "      <td>1.0</td>\n",
       "      <td>0.0</td>\n",
       "      <td>France</td>\n",
       "      <td></td>\n",
       "      <td>23409.0</td>\n",
       "      <td>0.0</td>\n",
       "      <td>0.0</td>\n",
       "      <td>REGO Gilberto (BRA)</td>\n",
       "      <td>SAUCEDO Ulises (BOL)</td>\n",
       "      <td>RADULESCU Constantin (ROU)</td>\n",
       "      <td>201.0</td>\n",
       "      <td>1085.0</td>\n",
       "      <td>ARG</td>\n",
       "      <td>FRA</td>\n",
       "    </tr>\n",
       "  </tbody>\n",
       "</table>\n",
       "</div>"
      ],
      "text/plain": [
       "     Year              Datetime    Stage         Stadium         City  \\\n",
       "0  1930.0  13 Jul 1930 - 15:00   Group 1         Pocitos  Montevideo    \n",
       "1  1930.0  13 Jul 1930 - 15:00   Group 4  Parque Central  Montevideo    \n",
       "2  1930.0  14 Jul 1930 - 12:45   Group 2  Parque Central  Montevideo    \n",
       "3  1930.0  14 Jul 1930 - 14:50   Group 3         Pocitos  Montevideo    \n",
       "4  1930.0  15 Jul 1930 - 16:00   Group 1  Parque Central  Montevideo    \n",
       "\n",
       "  Home Team Name  Home Team Goals  Away Team Goals Away Team Name  \\\n",
       "0         France              4.0              1.0         Mexico   \n",
       "1            USA              3.0              0.0        Belgium   \n",
       "2     Yugoslavia              2.0              1.0         Brazil   \n",
       "3        Romania              3.0              1.0           Peru   \n",
       "4      Argentina              1.0              0.0         France   \n",
       "\n",
       "  Win conditions  Attendance  Half-time Home Goals  Half-time Away Goals  \\\n",
       "0                     4444.0                   3.0                   0.0   \n",
       "1                    18346.0                   2.0                   0.0   \n",
       "2                    24059.0                   2.0                   0.0   \n",
       "3                     2549.0                   1.0                   0.0   \n",
       "4                    23409.0                   0.0                   0.0   \n",
       "\n",
       "                  Referee               Assistant 1  \\\n",
       "0  LOMBARDI Domingo (URU)     CRISTOPHE Henry (BEL)   \n",
       "1       MACIAS Jose (ARG)  MATEUCCI Francisco (URU)   \n",
       "2     TEJADA Anibal (URU)   VALLARINO Ricardo (URU)   \n",
       "3   WARNKEN Alberto (CHI)       LANGENUS Jean (BEL)   \n",
       "4     REGO Gilberto (BRA)      SAUCEDO Ulises (BOL)   \n",
       "\n",
       "                  Assistant 2  RoundID  MatchID Home Team Initials  \\\n",
       "0         REGO Gilberto (BRA)    201.0   1096.0                FRA   \n",
       "1       WARNKEN Alberto (CHI)    201.0   1090.0                USA   \n",
       "2         BALWAY Thomas (FRA)    201.0   1093.0                YUG   \n",
       "3    MATEUCCI Francisco (URU)    201.0   1098.0                ROU   \n",
       "4  RADULESCU Constantin (ROU)    201.0   1085.0                ARG   \n",
       "\n",
       "  Away Team Initials  \n",
       "0                MEX  \n",
       "1                BEL  \n",
       "2                BRA  \n",
       "3                PER  \n",
       "4                FRA  "
      ]
     },
     "execution_count": 286,
     "metadata": {},
     "output_type": "execute_result"
    }
   ],
   "source": [
    "worldCup_matches_df.head()"
   ]
  },
  {
   "cell_type": "code",
   "execution_count": 177,
   "id": "e1b4a7f4",
   "metadata": {},
   "outputs": [],
   "source": [
    "worldCup_matches_df.tail();"
   ]
  },
  {
   "cell_type": "code",
   "execution_count": 287,
   "id": "49c67fd9",
   "metadata": {},
   "outputs": [
    {
     "name": "stdout",
     "output_type": "stream",
     "text": [
      "<class 'pandas.core.frame.DataFrame'>\n",
      "RangeIndex: 4572 entries, 0 to 4571\n",
      "Data columns (total 20 columns):\n",
      " #   Column                Non-Null Count  Dtype  \n",
      "---  ------                --------------  -----  \n",
      " 0   Year                  852 non-null    float64\n",
      " 1   Datetime              852 non-null    object \n",
      " 2   Stage                 852 non-null    object \n",
      " 3   Stadium               852 non-null    object \n",
      " 4   City                  852 non-null    object \n",
      " 5   Home Team Name        852 non-null    object \n",
      " 6   Home Team Goals       852 non-null    float64\n",
      " 7   Away Team Goals       852 non-null    float64\n",
      " 8   Away Team Name        852 non-null    object \n",
      " 9   Win conditions        852 non-null    object \n",
      " 10  Attendance            850 non-null    float64\n",
      " 11  Half-time Home Goals  852 non-null    float64\n",
      " 12  Half-time Away Goals  852 non-null    float64\n",
      " 13  Referee               852 non-null    object \n",
      " 14  Assistant 1           852 non-null    object \n",
      " 15  Assistant 2           852 non-null    object \n",
      " 16  RoundID               852 non-null    float64\n",
      " 17  MatchID               852 non-null    float64\n",
      " 18  Home Team Initials    852 non-null    object \n",
      " 19  Away Team Initials    852 non-null    object \n",
      "dtypes: float64(8), object(12)\n",
      "memory usage: 714.5+ KB\n"
     ]
    }
   ],
   "source": [
    "worldCup_matches_df.info()"
   ]
  },
  {
   "cell_type": "code",
   "execution_count": 288,
   "id": "1af36b37",
   "metadata": {},
   "outputs": [],
   "source": [
    "match_duplicates_sum = sum(worldCup_matches_df.duplicated())"
   ]
  },
  {
   "cell_type": "code",
   "execution_count": 289,
   "id": "fddd1fe6",
   "metadata": {},
   "outputs": [
    {
     "data": {
      "text/plain": [
       "3735"
      ]
     },
     "execution_count": 289,
     "metadata": {},
     "output_type": "execute_result"
    }
   ],
   "source": [
    "match_duplicates_sum"
   ]
  },
  {
   "cell_type": "code",
   "execution_count": 372,
   "id": "c71be236",
   "metadata": {},
   "outputs": [],
   "source": [
    "worldCup_matches_df[worldCup_matches_df['Year'].isnull()];"
   ]
  },
  {
   "cell_type": "code",
   "execution_count": 373,
   "id": "47b50a90",
   "metadata": {},
   "outputs": [
    {
     "data": {
      "text/html": [
       "<div>\n",
       "<style scoped>\n",
       "    .dataframe tbody tr th:only-of-type {\n",
       "        vertical-align: middle;\n",
       "    }\n",
       "\n",
       "    .dataframe tbody tr th {\n",
       "        vertical-align: top;\n",
       "    }\n",
       "\n",
       "    .dataframe thead th {\n",
       "        text-align: right;\n",
       "    }\n",
       "</style>\n",
       "<table border=\"1\" class=\"dataframe\">\n",
       "  <thead>\n",
       "    <tr style=\"text-align: right;\">\n",
       "      <th></th>\n",
       "      <th>Year</th>\n",
       "      <th>Datetime</th>\n",
       "      <th>Stage</th>\n",
       "      <th>Stadium</th>\n",
       "      <th>City</th>\n",
       "      <th>Home Team Name</th>\n",
       "      <th>Home Team Goals</th>\n",
       "      <th>Away Team Goals</th>\n",
       "      <th>Away Team Name</th>\n",
       "      <th>Win conditions</th>\n",
       "      <th>Attendance</th>\n",
       "      <th>Half-time Home Goals</th>\n",
       "      <th>Half-time Away Goals</th>\n",
       "      <th>Referee</th>\n",
       "      <th>Assistant 1</th>\n",
       "      <th>Assistant 2</th>\n",
       "      <th>RoundID</th>\n",
       "      <th>MatchID</th>\n",
       "      <th>Home Team Initials</th>\n",
       "      <th>Away Team Initials</th>\n",
       "    </tr>\n",
       "  </thead>\n",
       "  <tbody>\n",
       "    <tr>\n",
       "      <th>850</th>\n",
       "      <td>2014.0</td>\n",
       "      <td>12 Jul 2014 - 17:00</td>\n",
       "      <td>Play-off for third place</td>\n",
       "      <td>Estadio Nacional</td>\n",
       "      <td>Brasilia</td>\n",
       "      <td>Brazil</td>\n",
       "      <td>0.0</td>\n",
       "      <td>3.0</td>\n",
       "      <td>Netherlands</td>\n",
       "      <td></td>\n",
       "      <td>68034.0</td>\n",
       "      <td>0.0</td>\n",
       "      <td>2.0</td>\n",
       "      <td>HAIMOUDI Djamel (ALG)</td>\n",
       "      <td>ACHIK Redouane (MAR)</td>\n",
       "      <td>ETCHIALI Abdelhak (ALG)</td>\n",
       "      <td>255957.0</td>\n",
       "      <td>300186502.0</td>\n",
       "      <td>BRA</td>\n",
       "      <td>NED</td>\n",
       "    </tr>\n",
       "    <tr>\n",
       "      <th>851</th>\n",
       "      <td>2014.0</td>\n",
       "      <td>13 Jul 2014 - 16:00</td>\n",
       "      <td>Final</td>\n",
       "      <td>Estadio do Maracana</td>\n",
       "      <td>Rio De Janeiro</td>\n",
       "      <td>Germany</td>\n",
       "      <td>1.0</td>\n",
       "      <td>0.0</td>\n",
       "      <td>Argentina</td>\n",
       "      <td>Germany win after extra time</td>\n",
       "      <td>74738.0</td>\n",
       "      <td>0.0</td>\n",
       "      <td>0.0</td>\n",
       "      <td>Nicola RIZZOLI (ITA)</td>\n",
       "      <td>Renato FAVERANI (ITA)</td>\n",
       "      <td>Andrea STEFANI (ITA)</td>\n",
       "      <td>255959.0</td>\n",
       "      <td>300186501.0</td>\n",
       "      <td>GER</td>\n",
       "      <td>ARG</td>\n",
       "    </tr>\n",
       "  </tbody>\n",
       "</table>\n",
       "</div>"
      ],
      "text/plain": [
       "       Year              Datetime                     Stage  \\\n",
       "850  2014.0  12 Jul 2014 - 17:00   Play-off for third place   \n",
       "851  2014.0  13 Jul 2014 - 16:00                      Final   \n",
       "\n",
       "                 Stadium             City Home Team Name  Home Team Goals  \\\n",
       "850     Estadio Nacional        Brasilia          Brazil              0.0   \n",
       "851  Estadio do Maracana  Rio De Janeiro         Germany              1.0   \n",
       "\n",
       "     Away Team Goals Away Team Name                 Win conditions  \\\n",
       "850              3.0    Netherlands                                  \n",
       "851              0.0      Argentina  Germany win after extra time    \n",
       "\n",
       "     Attendance  Half-time Home Goals  Half-time Away Goals  \\\n",
       "850     68034.0                   0.0                   2.0   \n",
       "851     74738.0                   0.0                   0.0   \n",
       "\n",
       "                   Referee            Assistant 1              Assistant 2  \\\n",
       "850  HAIMOUDI Djamel (ALG)   ACHIK Redouane (MAR)  ETCHIALI Abdelhak (ALG)   \n",
       "851   Nicola RIZZOLI (ITA)  Renato FAVERANI (ITA)     Andrea STEFANI (ITA)   \n",
       "\n",
       "      RoundID      MatchID Home Team Initials Away Team Initials  \n",
       "850  255957.0  300186502.0                BRA                NED  \n",
       "851  255959.0  300186501.0                GER                ARG  "
      ]
     },
     "execution_count": 373,
     "metadata": {},
     "output_type": "execute_result"
    }
   ],
   "source": [
    "worldCup_matches_df.iloc[[850,851]]"
   ]
  },
  {
   "cell_type": "code",
   "execution_count": 292,
   "id": "d7d429ee",
   "metadata": {},
   "outputs": [],
   "source": [
    "worldCup_matches_df.Stage.unique();"
   ]
  },
  {
   "cell_type": "code",
   "execution_count": 293,
   "id": "9025c039",
   "metadata": {},
   "outputs": [],
   "source": [
    "worldCup_matches_df['Home Team Name'].unique();"
   ]
  },
  {
   "cell_type": "code",
   "execution_count": 294,
   "id": "a4248cec",
   "metadata": {},
   "outputs": [],
   "source": [
    "worldCup_matches_df['Away Team Name'].unique();"
   ]
  },
  {
   "cell_type": "code",
   "execution_count": 295,
   "id": "eb0574d9",
   "metadata": {},
   "outputs": [
    {
     "data": {
      "text/plain": [
       "79"
      ]
     },
     "execution_count": 295,
     "metadata": {},
     "output_type": "execute_result"
    }
   ],
   "source": [
    "len(worldCup_matches_df['Home Team Name'].unique())"
   ]
  },
  {
   "cell_type": "code",
   "execution_count": 296,
   "id": "651fec8a",
   "metadata": {},
   "outputs": [
    {
     "data": {
      "text/plain": [
       "84"
      ]
     },
     "execution_count": 296,
     "metadata": {},
     "output_type": "execute_result"
    }
   ],
   "source": [
    "len(worldCup_matches_df['Away Team Name'].unique())"
   ]
  },
  {
   "cell_type": "markdown",
   "id": "a8a172c7",
   "metadata": {},
   "source": [
    "#### WorldCup_players_df"
   ]
  },
  {
   "cell_type": "code",
   "execution_count": 297,
   "id": "f11d927c",
   "metadata": {},
   "outputs": [
    {
     "data": {
      "text/html": [
       "<div>\n",
       "<style scoped>\n",
       "    .dataframe tbody tr th:only-of-type {\n",
       "        vertical-align: middle;\n",
       "    }\n",
       "\n",
       "    .dataframe tbody tr th {\n",
       "        vertical-align: top;\n",
       "    }\n",
       "\n",
       "    .dataframe thead th {\n",
       "        text-align: right;\n",
       "    }\n",
       "</style>\n",
       "<table border=\"1\" class=\"dataframe\">\n",
       "  <thead>\n",
       "    <tr style=\"text-align: right;\">\n",
       "      <th></th>\n",
       "      <th>RoundID</th>\n",
       "      <th>MatchID</th>\n",
       "      <th>Team Initials</th>\n",
       "      <th>Coach Name</th>\n",
       "      <th>Line-up</th>\n",
       "      <th>Shirt Number</th>\n",
       "      <th>Player Name</th>\n",
       "      <th>Position</th>\n",
       "      <th>Event</th>\n",
       "    </tr>\n",
       "  </thead>\n",
       "  <tbody>\n",
       "    <tr>\n",
       "      <th>0</th>\n",
       "      <td>201</td>\n",
       "      <td>1096</td>\n",
       "      <td>FRA</td>\n",
       "      <td>CAUDRON Raoul (FRA)</td>\n",
       "      <td>S</td>\n",
       "      <td>0</td>\n",
       "      <td>Alex THEPOT</td>\n",
       "      <td>GK</td>\n",
       "      <td>NaN</td>\n",
       "    </tr>\n",
       "    <tr>\n",
       "      <th>1</th>\n",
       "      <td>201</td>\n",
       "      <td>1096</td>\n",
       "      <td>MEX</td>\n",
       "      <td>LUQUE Juan (MEX)</td>\n",
       "      <td>S</td>\n",
       "      <td>0</td>\n",
       "      <td>Oscar BONFIGLIO</td>\n",
       "      <td>GK</td>\n",
       "      <td>NaN</td>\n",
       "    </tr>\n",
       "    <tr>\n",
       "      <th>2</th>\n",
       "      <td>201</td>\n",
       "      <td>1096</td>\n",
       "      <td>FRA</td>\n",
       "      <td>CAUDRON Raoul (FRA)</td>\n",
       "      <td>S</td>\n",
       "      <td>0</td>\n",
       "      <td>Marcel LANGILLER</td>\n",
       "      <td>NaN</td>\n",
       "      <td>G40'</td>\n",
       "    </tr>\n",
       "    <tr>\n",
       "      <th>3</th>\n",
       "      <td>201</td>\n",
       "      <td>1096</td>\n",
       "      <td>MEX</td>\n",
       "      <td>LUQUE Juan (MEX)</td>\n",
       "      <td>S</td>\n",
       "      <td>0</td>\n",
       "      <td>Juan CARRENO</td>\n",
       "      <td>NaN</td>\n",
       "      <td>G70'</td>\n",
       "    </tr>\n",
       "    <tr>\n",
       "      <th>4</th>\n",
       "      <td>201</td>\n",
       "      <td>1096</td>\n",
       "      <td>FRA</td>\n",
       "      <td>CAUDRON Raoul (FRA)</td>\n",
       "      <td>S</td>\n",
       "      <td>0</td>\n",
       "      <td>Ernest LIBERATI</td>\n",
       "      <td>NaN</td>\n",
       "      <td>NaN</td>\n",
       "    </tr>\n",
       "  </tbody>\n",
       "</table>\n",
       "</div>"
      ],
      "text/plain": [
       "   RoundID  MatchID Team Initials           Coach Name Line-up  Shirt Number  \\\n",
       "0      201     1096           FRA  CAUDRON Raoul (FRA)       S             0   \n",
       "1      201     1096           MEX     LUQUE Juan (MEX)       S             0   \n",
       "2      201     1096           FRA  CAUDRON Raoul (FRA)       S             0   \n",
       "3      201     1096           MEX     LUQUE Juan (MEX)       S             0   \n",
       "4      201     1096           FRA  CAUDRON Raoul (FRA)       S             0   \n",
       "\n",
       "        Player Name Position Event  \n",
       "0       Alex THEPOT       GK   NaN  \n",
       "1   Oscar BONFIGLIO       GK   NaN  \n",
       "2  Marcel LANGILLER      NaN  G40'  \n",
       "3      Juan CARRENO      NaN  G70'  \n",
       "4   Ernest LIBERATI      NaN   NaN  "
      ]
     },
     "execution_count": 297,
     "metadata": {},
     "output_type": "execute_result"
    }
   ],
   "source": [
    "worldCup_players_df.head()"
   ]
  },
  {
   "cell_type": "code",
   "execution_count": 298,
   "id": "5a6dc1cd",
   "metadata": {},
   "outputs": [
    {
     "name": "stdout",
     "output_type": "stream",
     "text": [
      "<class 'pandas.core.frame.DataFrame'>\n",
      "RangeIndex: 37784 entries, 0 to 37783\n",
      "Data columns (total 9 columns):\n",
      " #   Column         Non-Null Count  Dtype \n",
      "---  ------         --------------  ----- \n",
      " 0   RoundID        37784 non-null  int64 \n",
      " 1   MatchID        37784 non-null  int64 \n",
      " 2   Team Initials  37784 non-null  object\n",
      " 3   Coach Name     37784 non-null  object\n",
      " 4   Line-up        37784 non-null  object\n",
      " 5   Shirt Number   37784 non-null  int64 \n",
      " 6   Player Name    37784 non-null  object\n",
      " 7   Position       4143 non-null   object\n",
      " 8   Event          9069 non-null   object\n",
      "dtypes: int64(3), object(6)\n",
      "memory usage: 2.6+ MB\n"
     ]
    }
   ],
   "source": [
    "worldCup_players_df.info()"
   ]
  },
  {
   "cell_type": "code",
   "execution_count": 299,
   "id": "95d98269",
   "metadata": {},
   "outputs": [],
   "source": [
    "players_duplicate_sum = sum(worldCup_players_df.duplicated())"
   ]
  },
  {
   "cell_type": "code",
   "execution_count": 300,
   "id": "fa53239c",
   "metadata": {},
   "outputs": [
    {
     "data": {
      "text/plain": [
       "736"
      ]
     },
     "execution_count": 300,
     "metadata": {},
     "output_type": "execute_result"
    }
   ],
   "source": [
    "players_duplicate_sum"
   ]
  },
  {
   "cell_type": "markdown",
   "id": "c68a7a12",
   "metadata": {},
   "source": [
    "#### WorldCup_df"
   ]
  },
  {
   "cell_type": "code",
   "execution_count": 301,
   "id": "0c323b40",
   "metadata": {},
   "outputs": [
    {
     "data": {
      "text/html": [
       "<div>\n",
       "<style scoped>\n",
       "    .dataframe tbody tr th:only-of-type {\n",
       "        vertical-align: middle;\n",
       "    }\n",
       "\n",
       "    .dataframe tbody tr th {\n",
       "        vertical-align: top;\n",
       "    }\n",
       "\n",
       "    .dataframe thead th {\n",
       "        text-align: right;\n",
       "    }\n",
       "</style>\n",
       "<table border=\"1\" class=\"dataframe\">\n",
       "  <thead>\n",
       "    <tr style=\"text-align: right;\">\n",
       "      <th></th>\n",
       "      <th>Year</th>\n",
       "      <th>Country</th>\n",
       "      <th>Winner</th>\n",
       "      <th>Runners-Up</th>\n",
       "      <th>Third</th>\n",
       "      <th>Fourth</th>\n",
       "      <th>GoalsScored</th>\n",
       "      <th>QualifiedTeams</th>\n",
       "      <th>MatchesPlayed</th>\n",
       "      <th>Attendance</th>\n",
       "    </tr>\n",
       "  </thead>\n",
       "  <tbody>\n",
       "    <tr>\n",
       "      <th>0</th>\n",
       "      <td>1930</td>\n",
       "      <td>Uruguay</td>\n",
       "      <td>Uruguay</td>\n",
       "      <td>Argentina</td>\n",
       "      <td>USA</td>\n",
       "      <td>Yugoslavia</td>\n",
       "      <td>70</td>\n",
       "      <td>13</td>\n",
       "      <td>18</td>\n",
       "      <td>590.549</td>\n",
       "    </tr>\n",
       "    <tr>\n",
       "      <th>1</th>\n",
       "      <td>1934</td>\n",
       "      <td>Italy</td>\n",
       "      <td>Italy</td>\n",
       "      <td>Czechoslovakia</td>\n",
       "      <td>Germany</td>\n",
       "      <td>Austria</td>\n",
       "      <td>70</td>\n",
       "      <td>16</td>\n",
       "      <td>17</td>\n",
       "      <td>363.000</td>\n",
       "    </tr>\n",
       "    <tr>\n",
       "      <th>2</th>\n",
       "      <td>1938</td>\n",
       "      <td>France</td>\n",
       "      <td>Italy</td>\n",
       "      <td>Hungary</td>\n",
       "      <td>Brazil</td>\n",
       "      <td>Sweden</td>\n",
       "      <td>84</td>\n",
       "      <td>15</td>\n",
       "      <td>18</td>\n",
       "      <td>375.700</td>\n",
       "    </tr>\n",
       "    <tr>\n",
       "      <th>3</th>\n",
       "      <td>1950</td>\n",
       "      <td>Brazil</td>\n",
       "      <td>Uruguay</td>\n",
       "      <td>Brazil</td>\n",
       "      <td>Sweden</td>\n",
       "      <td>Spain</td>\n",
       "      <td>88</td>\n",
       "      <td>13</td>\n",
       "      <td>22</td>\n",
       "      <td>1.045.246</td>\n",
       "    </tr>\n",
       "    <tr>\n",
       "      <th>4</th>\n",
       "      <td>1954</td>\n",
       "      <td>Switzerland</td>\n",
       "      <td>Germany FR</td>\n",
       "      <td>Hungary</td>\n",
       "      <td>Austria</td>\n",
       "      <td>Uruguay</td>\n",
       "      <td>140</td>\n",
       "      <td>16</td>\n",
       "      <td>26</td>\n",
       "      <td>768.607</td>\n",
       "    </tr>\n",
       "    <tr>\n",
       "      <th>5</th>\n",
       "      <td>1958</td>\n",
       "      <td>Sweden</td>\n",
       "      <td>Brazil</td>\n",
       "      <td>Sweden</td>\n",
       "      <td>France</td>\n",
       "      <td>Germany FR</td>\n",
       "      <td>126</td>\n",
       "      <td>16</td>\n",
       "      <td>35</td>\n",
       "      <td>819.810</td>\n",
       "    </tr>\n",
       "    <tr>\n",
       "      <th>6</th>\n",
       "      <td>1962</td>\n",
       "      <td>Chile</td>\n",
       "      <td>Brazil</td>\n",
       "      <td>Czechoslovakia</td>\n",
       "      <td>Chile</td>\n",
       "      <td>Yugoslavia</td>\n",
       "      <td>89</td>\n",
       "      <td>16</td>\n",
       "      <td>32</td>\n",
       "      <td>893.172</td>\n",
       "    </tr>\n",
       "    <tr>\n",
       "      <th>7</th>\n",
       "      <td>1966</td>\n",
       "      <td>England</td>\n",
       "      <td>England</td>\n",
       "      <td>Germany FR</td>\n",
       "      <td>Portugal</td>\n",
       "      <td>Soviet Union</td>\n",
       "      <td>89</td>\n",
       "      <td>16</td>\n",
       "      <td>32</td>\n",
       "      <td>1.563.135</td>\n",
       "    </tr>\n",
       "    <tr>\n",
       "      <th>8</th>\n",
       "      <td>1970</td>\n",
       "      <td>Mexico</td>\n",
       "      <td>Brazil</td>\n",
       "      <td>Italy</td>\n",
       "      <td>Germany FR</td>\n",
       "      <td>Uruguay</td>\n",
       "      <td>95</td>\n",
       "      <td>16</td>\n",
       "      <td>32</td>\n",
       "      <td>1.603.975</td>\n",
       "    </tr>\n",
       "    <tr>\n",
       "      <th>9</th>\n",
       "      <td>1974</td>\n",
       "      <td>Germany</td>\n",
       "      <td>Germany FR</td>\n",
       "      <td>Netherlands</td>\n",
       "      <td>Poland</td>\n",
       "      <td>Brazil</td>\n",
       "      <td>97</td>\n",
       "      <td>16</td>\n",
       "      <td>38</td>\n",
       "      <td>1.865.753</td>\n",
       "    </tr>\n",
       "    <tr>\n",
       "      <th>10</th>\n",
       "      <td>1978</td>\n",
       "      <td>Argentina</td>\n",
       "      <td>Argentina</td>\n",
       "      <td>Netherlands</td>\n",
       "      <td>Brazil</td>\n",
       "      <td>Italy</td>\n",
       "      <td>102</td>\n",
       "      <td>16</td>\n",
       "      <td>38</td>\n",
       "      <td>1.545.791</td>\n",
       "    </tr>\n",
       "    <tr>\n",
       "      <th>11</th>\n",
       "      <td>1982</td>\n",
       "      <td>Spain</td>\n",
       "      <td>Italy</td>\n",
       "      <td>Germany FR</td>\n",
       "      <td>Poland</td>\n",
       "      <td>France</td>\n",
       "      <td>146</td>\n",
       "      <td>24</td>\n",
       "      <td>52</td>\n",
       "      <td>2.109.723</td>\n",
       "    </tr>\n",
       "    <tr>\n",
       "      <th>12</th>\n",
       "      <td>1986</td>\n",
       "      <td>Mexico</td>\n",
       "      <td>Argentina</td>\n",
       "      <td>Germany FR</td>\n",
       "      <td>France</td>\n",
       "      <td>Belgium</td>\n",
       "      <td>132</td>\n",
       "      <td>24</td>\n",
       "      <td>52</td>\n",
       "      <td>2.394.031</td>\n",
       "    </tr>\n",
       "    <tr>\n",
       "      <th>13</th>\n",
       "      <td>1990</td>\n",
       "      <td>Italy</td>\n",
       "      <td>Germany FR</td>\n",
       "      <td>Argentina</td>\n",
       "      <td>Italy</td>\n",
       "      <td>England</td>\n",
       "      <td>115</td>\n",
       "      <td>24</td>\n",
       "      <td>52</td>\n",
       "      <td>2.516.215</td>\n",
       "    </tr>\n",
       "    <tr>\n",
       "      <th>14</th>\n",
       "      <td>1994</td>\n",
       "      <td>USA</td>\n",
       "      <td>Brazil</td>\n",
       "      <td>Italy</td>\n",
       "      <td>Sweden</td>\n",
       "      <td>Bulgaria</td>\n",
       "      <td>141</td>\n",
       "      <td>24</td>\n",
       "      <td>52</td>\n",
       "      <td>3.587.538</td>\n",
       "    </tr>\n",
       "    <tr>\n",
       "      <th>15</th>\n",
       "      <td>1998</td>\n",
       "      <td>France</td>\n",
       "      <td>France</td>\n",
       "      <td>Brazil</td>\n",
       "      <td>Croatia</td>\n",
       "      <td>Netherlands</td>\n",
       "      <td>171</td>\n",
       "      <td>32</td>\n",
       "      <td>64</td>\n",
       "      <td>2.785.100</td>\n",
       "    </tr>\n",
       "    <tr>\n",
       "      <th>16</th>\n",
       "      <td>2002</td>\n",
       "      <td>Korea/Japan</td>\n",
       "      <td>Brazil</td>\n",
       "      <td>Germany</td>\n",
       "      <td>Turkey</td>\n",
       "      <td>Korea Republic</td>\n",
       "      <td>161</td>\n",
       "      <td>32</td>\n",
       "      <td>64</td>\n",
       "      <td>2.705.197</td>\n",
       "    </tr>\n",
       "    <tr>\n",
       "      <th>17</th>\n",
       "      <td>2006</td>\n",
       "      <td>Germany</td>\n",
       "      <td>Italy</td>\n",
       "      <td>France</td>\n",
       "      <td>Germany</td>\n",
       "      <td>Portugal</td>\n",
       "      <td>147</td>\n",
       "      <td>32</td>\n",
       "      <td>64</td>\n",
       "      <td>3.359.439</td>\n",
       "    </tr>\n",
       "    <tr>\n",
       "      <th>18</th>\n",
       "      <td>2010</td>\n",
       "      <td>South Africa</td>\n",
       "      <td>Spain</td>\n",
       "      <td>Netherlands</td>\n",
       "      <td>Germany</td>\n",
       "      <td>Uruguay</td>\n",
       "      <td>145</td>\n",
       "      <td>32</td>\n",
       "      <td>64</td>\n",
       "      <td>3.178.856</td>\n",
       "    </tr>\n",
       "    <tr>\n",
       "      <th>19</th>\n",
       "      <td>2014</td>\n",
       "      <td>Brazil</td>\n",
       "      <td>Germany</td>\n",
       "      <td>Argentina</td>\n",
       "      <td>Netherlands</td>\n",
       "      <td>Brazil</td>\n",
       "      <td>171</td>\n",
       "      <td>32</td>\n",
       "      <td>64</td>\n",
       "      <td>3.386.810</td>\n",
       "    </tr>\n",
       "  </tbody>\n",
       "</table>\n",
       "</div>"
      ],
      "text/plain": [
       "    Year       Country      Winner      Runners-Up        Third  \\\n",
       "0   1930       Uruguay     Uruguay       Argentina          USA   \n",
       "1   1934         Italy       Italy  Czechoslovakia      Germany   \n",
       "2   1938        France       Italy         Hungary       Brazil   \n",
       "3   1950        Brazil     Uruguay          Brazil       Sweden   \n",
       "4   1954   Switzerland  Germany FR         Hungary      Austria   \n",
       "5   1958        Sweden      Brazil          Sweden       France   \n",
       "6   1962         Chile      Brazil  Czechoslovakia        Chile   \n",
       "7   1966       England     England      Germany FR     Portugal   \n",
       "8   1970        Mexico      Brazil           Italy   Germany FR   \n",
       "9   1974       Germany  Germany FR     Netherlands       Poland   \n",
       "10  1978     Argentina   Argentina     Netherlands       Brazil   \n",
       "11  1982         Spain       Italy      Germany FR       Poland   \n",
       "12  1986        Mexico   Argentina      Germany FR       France   \n",
       "13  1990         Italy  Germany FR       Argentina        Italy   \n",
       "14  1994           USA      Brazil           Italy       Sweden   \n",
       "15  1998        France      France          Brazil      Croatia   \n",
       "16  2002   Korea/Japan      Brazil         Germany       Turkey   \n",
       "17  2006       Germany       Italy          France      Germany   \n",
       "18  2010  South Africa       Spain     Netherlands      Germany   \n",
       "19  2014        Brazil     Germany       Argentina  Netherlands   \n",
       "\n",
       "            Fourth  GoalsScored  QualifiedTeams  MatchesPlayed Attendance  \n",
       "0       Yugoslavia           70              13             18    590.549  \n",
       "1          Austria           70              16             17    363.000  \n",
       "2           Sweden           84              15             18    375.700  \n",
       "3            Spain           88              13             22  1.045.246  \n",
       "4          Uruguay          140              16             26    768.607  \n",
       "5       Germany FR          126              16             35    819.810  \n",
       "6       Yugoslavia           89              16             32    893.172  \n",
       "7     Soviet Union           89              16             32  1.563.135  \n",
       "8          Uruguay           95              16             32  1.603.975  \n",
       "9           Brazil           97              16             38  1.865.753  \n",
       "10           Italy          102              16             38  1.545.791  \n",
       "11          France          146              24             52  2.109.723  \n",
       "12         Belgium          132              24             52  2.394.031  \n",
       "13         England          115              24             52  2.516.215  \n",
       "14        Bulgaria          141              24             52  3.587.538  \n",
       "15     Netherlands          171              32             64  2.785.100  \n",
       "16  Korea Republic          161              32             64  2.705.197  \n",
       "17        Portugal          147              32             64  3.359.439  \n",
       "18         Uruguay          145              32             64  3.178.856  \n",
       "19          Brazil          171              32             64  3.386.810  "
      ]
     },
     "execution_count": 301,
     "metadata": {},
     "output_type": "execute_result"
    }
   ],
   "source": [
    "worldCup_df.head(20)"
   ]
  },
  {
   "cell_type": "code",
   "execution_count": 302,
   "id": "3569123a",
   "metadata": {},
   "outputs": [
    {
     "name": "stdout",
     "output_type": "stream",
     "text": [
      "<class 'pandas.core.frame.DataFrame'>\n",
      "RangeIndex: 20 entries, 0 to 19\n",
      "Data columns (total 10 columns):\n",
      " #   Column          Non-Null Count  Dtype \n",
      "---  ------          --------------  ----- \n",
      " 0   Year            20 non-null     int64 \n",
      " 1   Country         20 non-null     object\n",
      " 2   Winner          20 non-null     object\n",
      " 3   Runners-Up      20 non-null     object\n",
      " 4   Third           20 non-null     object\n",
      " 5   Fourth          20 non-null     object\n",
      " 6   GoalsScored     20 non-null     int64 \n",
      " 7   QualifiedTeams  20 non-null     int64 \n",
      " 8   MatchesPlayed   20 non-null     int64 \n",
      " 9   Attendance      20 non-null     object\n",
      "dtypes: int64(4), object(6)\n",
      "memory usage: 1.7+ KB\n"
     ]
    }
   ],
   "source": [
    "worldCup_df.info()"
   ]
  },
  {
   "cell_type": "code",
   "execution_count": 303,
   "id": "90fd484c",
   "metadata": {},
   "outputs": [],
   "source": [
    "worldCup_df['Country'].unique();"
   ]
  },
  {
   "cell_type": "code",
   "execution_count": 304,
   "id": "7907f0ac",
   "metadata": {},
   "outputs": [],
   "source": [
    "worldCup_df['Winner'].unique();"
   ]
  },
  {
   "cell_type": "code",
   "execution_count": 305,
   "id": "0500ff7f",
   "metadata": {},
   "outputs": [],
   "source": [
    "worldCup_df['Runners-Up'].unique();"
   ]
  },
  {
   "cell_type": "code",
   "execution_count": 306,
   "id": "438fe08e",
   "metadata": {},
   "outputs": [],
   "source": [
    "worldCup_df['Third'].unique();"
   ]
  },
  {
   "cell_type": "code",
   "execution_count": 307,
   "id": "b93c8689",
   "metadata": {},
   "outputs": [],
   "source": [
    "worldCup_df['Fourth'].unique();"
   ]
  },
  {
   "cell_type": "markdown",
   "id": "32bcab07",
   "metadata": {},
   "source": [
    "I have assessed the data programmatically and visually displayed, I have identified some issues in the datasets, the following issues are addressed in the following cells."
   ]
  },
  {
   "cell_type": "markdown",
   "id": "5d36d0b3",
   "metadata": {},
   "source": [
    "#### WorldCup_match_df data\n",
    "\n",
    "- Stage column has inconsistent values\n",
    "- Some rows are duplicated\n",
    "- There are some datatype that are incorrect should be int instead of float\n",
    "- There is a lot of rows with NaN values"
   ]
  },
  {
   "cell_type": "markdown",
   "id": "f1a0bf70",
   "metadata": {},
   "source": [
    "#### WorldCup_players_df data\n",
    "\n",
    "- Some rows in the data are duplicated"
   ]
  },
  {
   "cell_type": "markdown",
   "id": "056e3a47",
   "metadata": {},
   "source": [
    "#### WorldCup_df data\n",
    "\n",
    "- The 'Attendence' column has got incorrect datatype"
   ]
  },
  {
   "cell_type": "markdown",
   "id": "c3e3b937",
   "metadata": {},
   "source": [
    "### Cleaning data"
   ]
  },
  {
   "cell_type": "markdown",
   "id": "2789c6ee",
   "metadata": {},
   "source": [
    "> Here will be tiding up and improving the quality of the datasets and try to make is as clean as possible."
   ]
  },
  {
   "cell_type": "code",
   "execution_count": 308,
   "id": "ef597ae4",
   "metadata": {},
   "outputs": [],
   "source": [
    "matches_clean_df = worldCup_matches_df.copy()"
   ]
  },
  {
   "cell_type": "code",
   "execution_count": 309,
   "id": "0f66e3be",
   "metadata": {},
   "outputs": [],
   "source": [
    "# dropping duplicated data\n",
    "\n",
    "matches_clean_df.drop_duplicates(inplace = True)"
   ]
  },
  {
   "cell_type": "code",
   "execution_count": 310,
   "id": "f61aa798",
   "metadata": {},
   "outputs": [],
   "source": [
    "# dropping rows with NaN values\n",
    "\n",
    "matches_clean_df.dropna(inplace = True)"
   ]
  },
  {
   "cell_type": "markdown",
   "id": "0686b279",
   "metadata": {},
   "source": [
    "The stage column has got incosistent values will be replacing them so that we can have consistent values"
   ]
  },
  {
   "cell_type": "code",
   "execution_count": 311,
   "id": "f2bfdde5",
   "metadata": {},
   "outputs": [],
   "source": [
    "# inconsistent values are replace\n",
    "old_data_groups = ['Group 1', 'Group 2', 'Group 3', 'Group 4', 'Group 5', 'Group 6']\n",
    "\n",
    "new_data_groups = ['Group A', 'Group B', 'Group C', 'Group D', 'Group E', 'Group F'] \n",
    "\n",
    "old_stage_runUps = ['Match for third place', 'Play-off for third place']\n",
    "\n",
    "new_stage_runUps = 'Third place'\n",
    "\n",
    "matches_clean_df['Stage'].replace(old_data_groups, new_data_groups, inplace = True)\n",
    "\n",
    "matches_clean_df['Stage'].replace(old_stage_runUps, new_stage_runUps, inplace = True)"
   ]
  },
  {
   "cell_type": "code",
   "execution_count": 312,
   "id": "3a24f3b3",
   "metadata": {},
   "outputs": [],
   "source": [
    "matches_clean_df;"
   ]
  },
  {
   "cell_type": "code",
   "execution_count": 313,
   "id": "123024a1",
   "metadata": {},
   "outputs": [
    {
     "name": "stdout",
     "output_type": "stream",
     "text": [
      "<class 'pandas.core.frame.DataFrame'>\n",
      "Int64Index: 835 entries, 0 to 835\n",
      "Data columns (total 20 columns):\n",
      " #   Column                Non-Null Count  Dtype  \n",
      "---  ------                --------------  -----  \n",
      " 0   Year                  835 non-null    float64\n",
      " 1   Datetime              835 non-null    object \n",
      " 2   Stage                 835 non-null    object \n",
      " 3   Stadium               835 non-null    object \n",
      " 4   City                  835 non-null    object \n",
      " 5   Home Team Name        835 non-null    object \n",
      " 6   Home Team Goals       835 non-null    float64\n",
      " 7   Away Team Goals       835 non-null    float64\n",
      " 8   Away Team Name        835 non-null    object \n",
      " 9   Win conditions        835 non-null    object \n",
      " 10  Attendance            835 non-null    float64\n",
      " 11  Half-time Home Goals  835 non-null    float64\n",
      " 12  Half-time Away Goals  835 non-null    float64\n",
      " 13  Referee               835 non-null    object \n",
      " 14  Assistant 1           835 non-null    object \n",
      " 15  Assistant 2           835 non-null    object \n",
      " 16  RoundID               835 non-null    float64\n",
      " 17  MatchID               835 non-null    float64\n",
      " 18  Home Team Initials    835 non-null    object \n",
      " 19  Away Team Initials    835 non-null    object \n",
      "dtypes: float64(8), object(12)\n",
      "memory usage: 137.0+ KB\n"
     ]
    }
   ],
   "source": [
    "matches_clean_df.info();"
   ]
  },
  {
   "cell_type": "markdown",
   "id": "0f86ad59",
   "metadata": {},
   "source": [
    "As some column have incorrect datatypes will be sorting that out and will also change \"Datetime\" datatype to a differnt one."
   ]
  },
  {
   "cell_type": "code",
   "execution_count": 314,
   "id": "07b8af19",
   "metadata": {},
   "outputs": [],
   "source": [
    "# changing columns from float datatype to int\n",
    "\n",
    "for column in matches_clean_df.columns:\n",
    "    if matches_clean_df[column].dtype == float:\n",
    "        matches_clean_df[column] = matches_clean_df[column].astype(int)"
   ]
  },
  {
   "cell_type": "code",
   "execution_count": 315,
   "id": "51eeabeb",
   "metadata": {},
   "outputs": [],
   "source": [
    "# changing column \"Datatime\" to a diffent datatype\n",
    "\n",
    "matches_clean_df.Datetime = pd.to_datetime(matches_clean_df.Datetime)"
   ]
  },
  {
   "cell_type": "code",
   "execution_count": 316,
   "id": "d04ad0cc",
   "metadata": {},
   "outputs": [],
   "source": [
    "# here will be extracting the month from 'Datatime' column\n",
    "\n",
    "months = {0: 'Jan', 2:'Feb', 3:'Mar', 4:'April', 5:'May', 6:'Jun', 7:'Jul', 8:'Aug', 9:'Sep', 10:'Oct', 11:'Nov', 12:'Dec'}\n",
    "\n",
    "matches_clean_df['Month'] = matches_clean_df['Datetime'].dt.month.map(months)"
   ]
  },
  {
   "cell_type": "markdown",
   "id": "43cdf1de",
   "metadata": {},
   "source": [
    "I will be a adding a new columns to the matches_clean_df  which contains the corresponding continent of each country."
   ]
  },
  {
   "cell_type": "code",
   "execution_count": 317,
   "id": "df0fcb0d",
   "metadata": {},
   "outputs": [],
   "source": [
    "continents = pd.read_csv('https://raw.githubusercontent.com/dbouquin/IS_608/master/NanosatDB_munging/Countries-Continents.csv')"
   ]
  },
  {
   "cell_type": "code",
   "execution_count": 318,
   "id": "2f517303",
   "metadata": {},
   "outputs": [
    {
     "data": {
      "text/html": [
       "<div>\n",
       "<style scoped>\n",
       "    .dataframe tbody tr th:only-of-type {\n",
       "        vertical-align: middle;\n",
       "    }\n",
       "\n",
       "    .dataframe tbody tr th {\n",
       "        vertical-align: top;\n",
       "    }\n",
       "\n",
       "    .dataframe thead th {\n",
       "        text-align: right;\n",
       "    }\n",
       "</style>\n",
       "<table border=\"1\" class=\"dataframe\">\n",
       "  <thead>\n",
       "    <tr style=\"text-align: right;\">\n",
       "      <th></th>\n",
       "      <th>Continent</th>\n",
       "      <th>Country</th>\n",
       "    </tr>\n",
       "  </thead>\n",
       "  <tbody>\n",
       "    <tr>\n",
       "      <th>28</th>\n",
       "      <td>Africa</td>\n",
       "      <td>Madagascar</td>\n",
       "    </tr>\n",
       "    <tr>\n",
       "      <th>157</th>\n",
       "      <td>North America</td>\n",
       "      <td>Haiti</td>\n",
       "    </tr>\n",
       "    <tr>\n",
       "      <th>37</th>\n",
       "      <td>Africa</td>\n",
       "      <td>Nigeria</td>\n",
       "    </tr>\n",
       "    <tr>\n",
       "      <th>43</th>\n",
       "      <td>Africa</td>\n",
       "      <td>Somalia</td>\n",
       "    </tr>\n",
       "    <tr>\n",
       "      <th>117</th>\n",
       "      <td>Europe</td>\n",
       "      <td>Hungary</td>\n",
       "    </tr>\n",
       "  </tbody>\n",
       "</table>\n",
       "</div>"
      ],
      "text/plain": [
       "         Continent     Country\n",
       "28          Africa  Madagascar\n",
       "157  North America       Haiti\n",
       "37          Africa     Nigeria\n",
       "43          Africa     Somalia\n",
       "117         Europe     Hungary"
      ]
     },
     "execution_count": 318,
     "metadata": {},
     "output_type": "execute_result"
    }
   ],
   "source": [
    "continents.sample(5)"
   ]
  },
  {
   "cell_type": "markdown",
   "id": "2aba9f3f",
   "metadata": {},
   "source": [
    "Here I will be changing country names at the time of tournaments to new names"
   ]
  },
  {
   "cell_type": "code",
   "execution_count": 319,
   "id": "8edd9634",
   "metadata": {},
   "outputs": [],
   "source": [
    "old_country_name = ['rn\">United Arab Emirates', 'rn\">Republic of Ireland', \n",
    "            'rn\">Trinidad and Tobago', 'rn\">Serbia and Montenegro',\n",
    "            \"C�te d'Ivoire\", 'rn\">Bosnia and Herzegovina',\n",
    "           ]\n",
    "\n",
    "new_country_name = ['United Arab Emirates', 'Republic of Ireland', \n",
    "            'Trinidad and Tobago', 'Serbia and Montenegro',\n",
    "            \"Cote d'Ivoire\", 'Bosnia and Herzegovina',\n",
    "           ]\n",
    "    \n",
    "matches_clean_df[['Home Team Name', 'Away Team Name']] = (\n",
    "    matches_clean_df[['Home Team Name', 'Away Team Name']].replace(old_country_name, new_country_name)\n",
    ")"
   ]
  },
  {
   "cell_type": "markdown",
   "id": "0b55669d",
   "metadata": {},
   "source": [
    "The are countries with missing continents in the 'continent file', if any exist, will be are added manually."
   ]
  },
  {
   "cell_type": "code",
   "execution_count": 320,
   "id": "e9666652",
   "metadata": {},
   "outputs": [],
   "source": [
    "home_countries = matches_clean_df['Home Team Name']\n",
    "\n",
    "away_countries = matches_clean_df['Away Team Name']"
   ]
  },
  {
   "cell_type": "code",
   "execution_count": 322,
   "id": "35a99b49",
   "metadata": {},
   "outputs": [],
   "source": [
    "missing_home = home_countries[~home_countries.isin(continents.Country)].unique()\n",
    "missing_home;"
   ]
  },
  {
   "cell_type": "code",
   "execution_count": 323,
   "id": "338927de",
   "metadata": {},
   "outputs": [],
   "source": [
    "missing_away = away_countries[~away_countries.isin(continents.Country)].unique()\n",
    "missing_away;"
   ]
  },
  {
   "cell_type": "code",
   "execution_count": 324,
   "id": "bf05e97a",
   "metadata": {},
   "outputs": [],
   "source": [
    "additional_continents = {'England': 'Europe', 'Wales': 'Europe', 'Scotland': 'Europe', \n",
    "                         'Republic of Ireland': 'Europe', 'Northern Ireland': 'Europe',\n",
    "                         'USA': 'North America', 'Congo DR': 'Africa', \n",
    "                         \"Cote d'Ivoire\": 'Africa', 'Korea DPR': 'Asia',\n",
    "                         'Dutch East Indies': 'Asia', 'Korea Republic': 'Asia',\n",
    "                         'Germany FR': 'Europe', 'Soviet Union': 'Asia', \n",
    "                         'German DR': 'Europe', 'Zaire': 'Africa', 'Russia': 'Asia', \n",
    "                         'China PR': 'Asia', 'Czech Republic': 'Europe',\n",
    "                         'Serbia and Montenegro': 'Europe', 'IR Iran': 'Asia',\n",
    "                         'Yugoslavia': 'Europe', 'Czechoslovakia': 'Europe'\n",
    "                        }\n"
   ]
  },
  {
   "cell_type": "code",
   "execution_count": 325,
   "id": "c76f72f9",
   "metadata": {},
   "outputs": [],
   "source": [
    "# here I will be convert additional_contents to dataframe\n",
    "\n",
    "additional_continents_df = pd.DataFrame(additional_continents.items(), columns=['Country', 'Continent'])\n",
    "additional_continents_df;\n"
   ]
  },
  {
   "cell_type": "code",
   "execution_count": 326,
   "id": "75d30746",
   "metadata": {},
   "outputs": [
    {
     "name": "stderr",
     "output_type": "stream",
     "text": [
      "C:\\Users\\Anele\\AppData\\Local\\Temp\\ipykernel_6148\\2188811496.py:2: FutureWarning: The frame.append method is deprecated and will be removed from pandas in a future version. Use pandas.concat instead.\n",
      "  continent = continents.append(additional_continents_df)\n"
     ]
    },
    {
     "data": {
      "text/html": [
       "<div>\n",
       "<style scoped>\n",
       "    .dataframe tbody tr th:only-of-type {\n",
       "        vertical-align: middle;\n",
       "    }\n",
       "\n",
       "    .dataframe tbody tr th {\n",
       "        vertical-align: top;\n",
       "    }\n",
       "\n",
       "    .dataframe thead th {\n",
       "        text-align: right;\n",
       "    }\n",
       "</style>\n",
       "<table border=\"1\" class=\"dataframe\">\n",
       "  <thead>\n",
       "    <tr style=\"text-align: right;\">\n",
       "      <th></th>\n",
       "      <th>Continent</th>\n",
       "      <th>Country</th>\n",
       "    </tr>\n",
       "  </thead>\n",
       "  <tbody>\n",
       "    <tr>\n",
       "      <th>0</th>\n",
       "      <td>Africa</td>\n",
       "      <td>Algeria</td>\n",
       "    </tr>\n",
       "    <tr>\n",
       "      <th>1</th>\n",
       "      <td>Africa</td>\n",
       "      <td>Angola</td>\n",
       "    </tr>\n",
       "    <tr>\n",
       "      <th>2</th>\n",
       "      <td>Africa</td>\n",
       "      <td>Benin</td>\n",
       "    </tr>\n",
       "    <tr>\n",
       "      <th>3</th>\n",
       "      <td>Africa</td>\n",
       "      <td>Botswana</td>\n",
       "    </tr>\n",
       "    <tr>\n",
       "      <th>4</th>\n",
       "      <td>Africa</td>\n",
       "      <td>Burkina</td>\n",
       "    </tr>\n",
       "    <tr>\n",
       "      <th>...</th>\n",
       "      <td>...</td>\n",
       "      <td>...</td>\n",
       "    </tr>\n",
       "    <tr>\n",
       "      <th>17</th>\n",
       "      <td>Europe</td>\n",
       "      <td>Czech Republic</td>\n",
       "    </tr>\n",
       "    <tr>\n",
       "      <th>18</th>\n",
       "      <td>Europe</td>\n",
       "      <td>Serbia and Montenegro</td>\n",
       "    </tr>\n",
       "    <tr>\n",
       "      <th>19</th>\n",
       "      <td>Asia</td>\n",
       "      <td>IR Iran</td>\n",
       "    </tr>\n",
       "    <tr>\n",
       "      <th>20</th>\n",
       "      <td>Europe</td>\n",
       "      <td>Yugoslavia</td>\n",
       "    </tr>\n",
       "    <tr>\n",
       "      <th>21</th>\n",
       "      <td>Europe</td>\n",
       "      <td>Czechoslovakia</td>\n",
       "    </tr>\n",
       "  </tbody>\n",
       "</table>\n",
       "<p>216 rows × 2 columns</p>\n",
       "</div>"
      ],
      "text/plain": [
       "   Continent                Country\n",
       "0     Africa                Algeria\n",
       "1     Africa                 Angola\n",
       "2     Africa                  Benin\n",
       "3     Africa               Botswana\n",
       "4     Africa                Burkina\n",
       "..       ...                    ...\n",
       "17    Europe         Czech Republic\n",
       "18    Europe  Serbia and Montenegro\n",
       "19      Asia                IR Iran\n",
       "20    Europe             Yugoslavia\n",
       "21    Europe         Czechoslovakia\n",
       "\n",
       "[216 rows x 2 columns]"
      ]
     },
     "execution_count": 326,
     "metadata": {},
     "output_type": "execute_result"
    }
   ],
   "source": [
    "# here will be adding 'additional_continents_df' to 'continents'\n",
    "continent = continents.append(additional_continents_df)\n",
    "continent"
   ]
  },
  {
   "cell_type": "code",
   "execution_count": 327,
   "id": "4516d37a",
   "metadata": {},
   "outputs": [],
   "source": [
    "# here will create two new columns corresponding to the continents of Home and Away countries on the data that we already have.\n",
    "\n",
    "matches_clean_df = pd.merge(continent, matches_clean_df, right_on = 'Home Team Name', left_on = 'Country')\n",
    "\n",
    "matches_clean_df = pd.merge(continent, matches_clean_df, right_on = 'Away Team Name', left_on = 'Country')\n",
    "matches_clean_df;"
   ]
  },
  {
   "cell_type": "code",
   "execution_count": 328,
   "id": "8a55f7ea",
   "metadata": {},
   "outputs": [],
   "source": [
    "# renaming columns\n",
    "\n",
    "matches_clean_df.rename(columns = {'Continent_x' : 'Away Team Continent', 'Continent_y' : 'Home Team Continent'}, inplace = True) "
   ]
  },
  {
   "cell_type": "code",
   "execution_count": 329,
   "id": "dc5c2c2a",
   "metadata": {},
   "outputs": [],
   "source": [
    "# droping unwanted columns columns\n",
    "\n",
    "matches_clean_df.drop(columns = ['Country_x', 'Country_y'], inplace = True)\n",
    "matches_clean_df;"
   ]
  },
  {
   "cell_type": "code",
   "execution_count": 330,
   "id": "9b2c00d0",
   "metadata": {},
   "outputs": [],
   "source": [
    "players_clean_df = worldCup_players_df"
   ]
  },
  {
   "cell_type": "code",
   "execution_count": 331,
   "id": "7dc50b8d",
   "metadata": {},
   "outputs": [],
   "source": [
    "# drop duplicates\n",
    "players_clean_df.drop_duplicates(inplace = True)"
   ]
  },
  {
   "cell_type": "code",
   "execution_count": 332,
   "id": "854c7b15",
   "metadata": {},
   "outputs": [
    {
     "name": "stdout",
     "output_type": "stream",
     "text": [
      "<class 'pandas.core.frame.DataFrame'>\n",
      "Int64Index: 37048 entries, 0 to 37047\n",
      "Data columns (total 9 columns):\n",
      " #   Column         Non-Null Count  Dtype \n",
      "---  ------         --------------  ----- \n",
      " 0   RoundID        37048 non-null  int64 \n",
      " 1   MatchID        37048 non-null  int64 \n",
      " 2   Team Initials  37048 non-null  object\n",
      " 3   Coach Name     37048 non-null  object\n",
      " 4   Line-up        37048 non-null  object\n",
      " 5   Shirt Number   37048 non-null  int64 \n",
      " 6   Player Name    37048 non-null  object\n",
      " 7   Position       4018 non-null   object\n",
      " 8   Event          8823 non-null   object\n",
      "dtypes: int64(3), object(6)\n",
      "memory usage: 2.8+ MB\n"
     ]
    }
   ],
   "source": [
    "players_clean_df.info();"
   ]
  },
  {
   "cell_type": "markdown",
   "id": "5e11dd81",
   "metadata": {},
   "source": [
    "Here will be sorting attendance values by year."
   ]
  },
  {
   "cell_type": "code",
   "execution_count": 364,
   "id": "29f2672b",
   "metadata": {},
   "outputs": [],
   "source": [
    "worldCup_clean_df = worldCup_df"
   ]
  },
  {
   "cell_type": "code",
   "execution_count": 365,
   "id": "bae93ac2",
   "metadata": {},
   "outputs": [],
   "source": [
    "sort_attendance = list(matches_clean_df.query('Stage == \"Final\"').sort_values(by= \"Year\").Attendance.values)\n",
    "sort_attendance.insert(3, 173850)\n"
   ]
  },
  {
   "cell_type": "code",
   "execution_count": 366,
   "id": "b4e8ff7d",
   "metadata": {},
   "outputs": [
    {
     "data": {
      "text/html": [
       "<div>\n",
       "<style scoped>\n",
       "    .dataframe tbody tr th:only-of-type {\n",
       "        vertical-align: middle;\n",
       "    }\n",
       "\n",
       "    .dataframe tbody tr th {\n",
       "        vertical-align: top;\n",
       "    }\n",
       "\n",
       "    .dataframe thead th {\n",
       "        text-align: right;\n",
       "    }\n",
       "</style>\n",
       "<table border=\"1\" class=\"dataframe\">\n",
       "  <thead>\n",
       "    <tr style=\"text-align: right;\">\n",
       "      <th></th>\n",
       "      <th>Year</th>\n",
       "      <th>Host Country</th>\n",
       "      <th>Winner</th>\n",
       "      <th>Runners-Up</th>\n",
       "      <th>Third</th>\n",
       "      <th>Fourth</th>\n",
       "      <th>GoalsScored</th>\n",
       "      <th>QualifiedTeams</th>\n",
       "      <th>MatchesPlayed</th>\n",
       "      <th>Attendance</th>\n",
       "    </tr>\n",
       "  </thead>\n",
       "  <tbody>\n",
       "    <tr>\n",
       "      <th>0</th>\n",
       "      <td>1930</td>\n",
       "      <td>Uruguay</td>\n",
       "      <td>Uruguay</td>\n",
       "      <td>Argentina</td>\n",
       "      <td>USA</td>\n",
       "      <td>Yugoslavia</td>\n",
       "      <td>70</td>\n",
       "      <td>13</td>\n",
       "      <td>18</td>\n",
       "      <td>68346</td>\n",
       "    </tr>\n",
       "    <tr>\n",
       "      <th>1</th>\n",
       "      <td>1934</td>\n",
       "      <td>Italy</td>\n",
       "      <td>Italy</td>\n",
       "      <td>Czechoslovakia</td>\n",
       "      <td>Germany</td>\n",
       "      <td>Austria</td>\n",
       "      <td>70</td>\n",
       "      <td>16</td>\n",
       "      <td>17</td>\n",
       "      <td>55000</td>\n",
       "    </tr>\n",
       "    <tr>\n",
       "      <th>2</th>\n",
       "      <td>1938</td>\n",
       "      <td>France</td>\n",
       "      <td>Italy</td>\n",
       "      <td>Hungary</td>\n",
       "      <td>Brazil</td>\n",
       "      <td>Sweden</td>\n",
       "      <td>84</td>\n",
       "      <td>15</td>\n",
       "      <td>18</td>\n",
       "      <td>45000</td>\n",
       "    </tr>\n",
       "    <tr>\n",
       "      <th>3</th>\n",
       "      <td>1950</td>\n",
       "      <td>Brazil</td>\n",
       "      <td>Uruguay</td>\n",
       "      <td>Brazil</td>\n",
       "      <td>Sweden</td>\n",
       "      <td>Spain</td>\n",
       "      <td>88</td>\n",
       "      <td>13</td>\n",
       "      <td>22</td>\n",
       "      <td>173850</td>\n",
       "    </tr>\n",
       "    <tr>\n",
       "      <th>4</th>\n",
       "      <td>1954</td>\n",
       "      <td>Switzerland</td>\n",
       "      <td>Germany FR</td>\n",
       "      <td>Hungary</td>\n",
       "      <td>Austria</td>\n",
       "      <td>Uruguay</td>\n",
       "      <td>140</td>\n",
       "      <td>16</td>\n",
       "      <td>26</td>\n",
       "      <td>62500</td>\n",
       "    </tr>\n",
       "    <tr>\n",
       "      <th>5</th>\n",
       "      <td>1958</td>\n",
       "      <td>Sweden</td>\n",
       "      <td>Brazil</td>\n",
       "      <td>Sweden</td>\n",
       "      <td>France</td>\n",
       "      <td>Germany FR</td>\n",
       "      <td>126</td>\n",
       "      <td>16</td>\n",
       "      <td>35</td>\n",
       "      <td>49737</td>\n",
       "    </tr>\n",
       "    <tr>\n",
       "      <th>6</th>\n",
       "      <td>1962</td>\n",
       "      <td>Chile</td>\n",
       "      <td>Brazil</td>\n",
       "      <td>Czechoslovakia</td>\n",
       "      <td>Chile</td>\n",
       "      <td>Yugoslavia</td>\n",
       "      <td>89</td>\n",
       "      <td>16</td>\n",
       "      <td>32</td>\n",
       "      <td>68679</td>\n",
       "    </tr>\n",
       "    <tr>\n",
       "      <th>7</th>\n",
       "      <td>1966</td>\n",
       "      <td>England</td>\n",
       "      <td>England</td>\n",
       "      <td>Germany FR</td>\n",
       "      <td>Portugal</td>\n",
       "      <td>Soviet Union</td>\n",
       "      <td>89</td>\n",
       "      <td>16</td>\n",
       "      <td>32</td>\n",
       "      <td>96924</td>\n",
       "    </tr>\n",
       "    <tr>\n",
       "      <th>8</th>\n",
       "      <td>1970</td>\n",
       "      <td>Mexico</td>\n",
       "      <td>Brazil</td>\n",
       "      <td>Italy</td>\n",
       "      <td>Germany FR</td>\n",
       "      <td>Uruguay</td>\n",
       "      <td>95</td>\n",
       "      <td>16</td>\n",
       "      <td>32</td>\n",
       "      <td>107412</td>\n",
       "    </tr>\n",
       "    <tr>\n",
       "      <th>9</th>\n",
       "      <td>1974</td>\n",
       "      <td>Germany</td>\n",
       "      <td>Germany FR</td>\n",
       "      <td>Netherlands</td>\n",
       "      <td>Poland</td>\n",
       "      <td>Brazil</td>\n",
       "      <td>97</td>\n",
       "      <td>16</td>\n",
       "      <td>38</td>\n",
       "      <td>78200</td>\n",
       "    </tr>\n",
       "    <tr>\n",
       "      <th>10</th>\n",
       "      <td>1978</td>\n",
       "      <td>Argentina</td>\n",
       "      <td>Argentina</td>\n",
       "      <td>Netherlands</td>\n",
       "      <td>Brazil</td>\n",
       "      <td>Italy</td>\n",
       "      <td>102</td>\n",
       "      <td>16</td>\n",
       "      <td>38</td>\n",
       "      <td>71483</td>\n",
       "    </tr>\n",
       "    <tr>\n",
       "      <th>11</th>\n",
       "      <td>1982</td>\n",
       "      <td>Spain</td>\n",
       "      <td>Italy</td>\n",
       "      <td>Germany FR</td>\n",
       "      <td>Poland</td>\n",
       "      <td>France</td>\n",
       "      <td>146</td>\n",
       "      <td>24</td>\n",
       "      <td>52</td>\n",
       "      <td>90000</td>\n",
       "    </tr>\n",
       "    <tr>\n",
       "      <th>12</th>\n",
       "      <td>1986</td>\n",
       "      <td>Mexico</td>\n",
       "      <td>Argentina</td>\n",
       "      <td>Germany FR</td>\n",
       "      <td>France</td>\n",
       "      <td>Belgium</td>\n",
       "      <td>132</td>\n",
       "      <td>24</td>\n",
       "      <td>52</td>\n",
       "      <td>114600</td>\n",
       "    </tr>\n",
       "    <tr>\n",
       "      <th>13</th>\n",
       "      <td>1990</td>\n",
       "      <td>Italy</td>\n",
       "      <td>Germany FR</td>\n",
       "      <td>Argentina</td>\n",
       "      <td>Italy</td>\n",
       "      <td>England</td>\n",
       "      <td>115</td>\n",
       "      <td>24</td>\n",
       "      <td>52</td>\n",
       "      <td>73603</td>\n",
       "    </tr>\n",
       "    <tr>\n",
       "      <th>14</th>\n",
       "      <td>1994</td>\n",
       "      <td>USA</td>\n",
       "      <td>Brazil</td>\n",
       "      <td>Italy</td>\n",
       "      <td>Sweden</td>\n",
       "      <td>Bulgaria</td>\n",
       "      <td>141</td>\n",
       "      <td>24</td>\n",
       "      <td>52</td>\n",
       "      <td>94194</td>\n",
       "    </tr>\n",
       "    <tr>\n",
       "      <th>15</th>\n",
       "      <td>1998</td>\n",
       "      <td>France</td>\n",
       "      <td>France</td>\n",
       "      <td>Brazil</td>\n",
       "      <td>Croatia</td>\n",
       "      <td>Netherlands</td>\n",
       "      <td>171</td>\n",
       "      <td>32</td>\n",
       "      <td>64</td>\n",
       "      <td>80000</td>\n",
       "    </tr>\n",
       "    <tr>\n",
       "      <th>16</th>\n",
       "      <td>2002</td>\n",
       "      <td>Korea/Japan</td>\n",
       "      <td>Brazil</td>\n",
       "      <td>Germany</td>\n",
       "      <td>Turkey</td>\n",
       "      <td>Korea Republic</td>\n",
       "      <td>161</td>\n",
       "      <td>32</td>\n",
       "      <td>64</td>\n",
       "      <td>69029</td>\n",
       "    </tr>\n",
       "    <tr>\n",
       "      <th>17</th>\n",
       "      <td>2006</td>\n",
       "      <td>Germany</td>\n",
       "      <td>Italy</td>\n",
       "      <td>France</td>\n",
       "      <td>Germany</td>\n",
       "      <td>Portugal</td>\n",
       "      <td>147</td>\n",
       "      <td>32</td>\n",
       "      <td>64</td>\n",
       "      <td>69000</td>\n",
       "    </tr>\n",
       "    <tr>\n",
       "      <th>18</th>\n",
       "      <td>2010</td>\n",
       "      <td>South Africa</td>\n",
       "      <td>Spain</td>\n",
       "      <td>Netherlands</td>\n",
       "      <td>Germany</td>\n",
       "      <td>Uruguay</td>\n",
       "      <td>145</td>\n",
       "      <td>32</td>\n",
       "      <td>64</td>\n",
       "      <td>84490</td>\n",
       "    </tr>\n",
       "    <tr>\n",
       "      <th>19</th>\n",
       "      <td>2014</td>\n",
       "      <td>Brazil</td>\n",
       "      <td>Germany</td>\n",
       "      <td>Argentina</td>\n",
       "      <td>Netherlands</td>\n",
       "      <td>Brazil</td>\n",
       "      <td>171</td>\n",
       "      <td>32</td>\n",
       "      <td>64</td>\n",
       "      <td>74738</td>\n",
       "    </tr>\n",
       "  </tbody>\n",
       "</table>\n",
       "</div>"
      ],
      "text/plain": [
       "    Year  Host Country      Winner      Runners-Up        Third  \\\n",
       "0   1930       Uruguay     Uruguay       Argentina          USA   \n",
       "1   1934         Italy       Italy  Czechoslovakia      Germany   \n",
       "2   1938        France       Italy         Hungary       Brazil   \n",
       "3   1950        Brazil     Uruguay          Brazil       Sweden   \n",
       "4   1954   Switzerland  Germany FR         Hungary      Austria   \n",
       "5   1958        Sweden      Brazil          Sweden       France   \n",
       "6   1962         Chile      Brazil  Czechoslovakia        Chile   \n",
       "7   1966       England     England      Germany FR     Portugal   \n",
       "8   1970        Mexico      Brazil           Italy   Germany FR   \n",
       "9   1974       Germany  Germany FR     Netherlands       Poland   \n",
       "10  1978     Argentina   Argentina     Netherlands       Brazil   \n",
       "11  1982         Spain       Italy      Germany FR       Poland   \n",
       "12  1986        Mexico   Argentina      Germany FR       France   \n",
       "13  1990         Italy  Germany FR       Argentina        Italy   \n",
       "14  1994           USA      Brazil           Italy       Sweden   \n",
       "15  1998        France      France          Brazil      Croatia   \n",
       "16  2002   Korea/Japan      Brazil         Germany       Turkey   \n",
       "17  2006       Germany       Italy          France      Germany   \n",
       "18  2010  South Africa       Spain     Netherlands      Germany   \n",
       "19  2014        Brazil     Germany       Argentina  Netherlands   \n",
       "\n",
       "            Fourth  GoalsScored  QualifiedTeams  MatchesPlayed  Attendance  \n",
       "0       Yugoslavia           70              13             18       68346  \n",
       "1          Austria           70              16             17       55000  \n",
       "2           Sweden           84              15             18       45000  \n",
       "3            Spain           88              13             22      173850  \n",
       "4          Uruguay          140              16             26       62500  \n",
       "5       Germany FR          126              16             35       49737  \n",
       "6       Yugoslavia           89              16             32       68679  \n",
       "7     Soviet Union           89              16             32       96924  \n",
       "8          Uruguay           95              16             32      107412  \n",
       "9           Brazil           97              16             38       78200  \n",
       "10           Italy          102              16             38       71483  \n",
       "11          France          146              24             52       90000  \n",
       "12         Belgium          132              24             52      114600  \n",
       "13         England          115              24             52       73603  \n",
       "14        Bulgaria          141              24             52       94194  \n",
       "15     Netherlands          171              32             64       80000  \n",
       "16  Korea Republic          161              32             64       69029  \n",
       "17        Portugal          147              32             64       69000  \n",
       "18         Uruguay          145              32             64       84490  \n",
       "19          Brazil          171              32             64       74738  "
      ]
     },
     "execution_count": 366,
     "metadata": {},
     "output_type": "execute_result"
    }
   ],
   "source": [
    "worldCup_clean_df[\"Attendance\"] = sort_attendance\n",
    "worldCup_clean_df"
   ]
  },
  {
   "cell_type": "code",
   "execution_count": 367,
   "id": "49255bdb",
   "metadata": {},
   "outputs": [],
   "source": [
    "# will be renaming 'Country' column in 'world_clean_df' to avoid overlapping when merging\n",
    "\n",
    "worldCup_clean_df.rename(columns = {'Country': 'Host Country'}, inplace = True)"
   ]
  },
  {
   "cell_type": "code",
   "execution_count": 368,
   "id": "7e37de9d",
   "metadata": {},
   "outputs": [
    {
     "data": {
      "text/html": [
       "<div>\n",
       "<style scoped>\n",
       "    .dataframe tbody tr th:only-of-type {\n",
       "        vertical-align: middle;\n",
       "    }\n",
       "\n",
       "    .dataframe tbody tr th {\n",
       "        vertical-align: top;\n",
       "    }\n",
       "\n",
       "    .dataframe thead th {\n",
       "        text-align: right;\n",
       "    }\n",
       "</style>\n",
       "<table border=\"1\" class=\"dataframe\">\n",
       "  <thead>\n",
       "    <tr style=\"text-align: right;\">\n",
       "      <th></th>\n",
       "      <th>Fourth Continent</th>\n",
       "      <th>Third Continent</th>\n",
       "      <th>Runners-Up Continent</th>\n",
       "      <th>Winner Continent</th>\n",
       "      <th>Year</th>\n",
       "      <th>Host Country</th>\n",
       "      <th>Winner</th>\n",
       "      <th>Runners-Up</th>\n",
       "      <th>Third</th>\n",
       "      <th>Fourth</th>\n",
       "      <th>GoalsScored</th>\n",
       "      <th>QualifiedTeams</th>\n",
       "      <th>MatchesPlayed</th>\n",
       "      <th>Attendance</th>\n",
       "    </tr>\n",
       "  </thead>\n",
       "  <tbody>\n",
       "    <tr>\n",
       "      <th>0</th>\n",
       "      <td>Europe</td>\n",
       "      <td>Europe</td>\n",
       "      <td>Europe</td>\n",
       "      <td>Europe</td>\n",
       "      <td>1934</td>\n",
       "      <td>Italy</td>\n",
       "      <td>Italy</td>\n",
       "      <td>Czechoslovakia</td>\n",
       "      <td>Germany</td>\n",
       "      <td>Austria</td>\n",
       "      <td>70</td>\n",
       "      <td>16</td>\n",
       "      <td>17</td>\n",
       "      <td>55000</td>\n",
       "    </tr>\n",
       "    <tr>\n",
       "      <th>1</th>\n",
       "      <td>Europe</td>\n",
       "      <td>Europe</td>\n",
       "      <td>Europe</td>\n",
       "      <td>South America</td>\n",
       "      <td>1986</td>\n",
       "      <td>Mexico</td>\n",
       "      <td>Argentina</td>\n",
       "      <td>Germany FR</td>\n",
       "      <td>France</td>\n",
       "      <td>Belgium</td>\n",
       "      <td>132</td>\n",
       "      <td>24</td>\n",
       "      <td>52</td>\n",
       "      <td>114600</td>\n",
       "    </tr>\n",
       "    <tr>\n",
       "      <th>2</th>\n",
       "      <td>Europe</td>\n",
       "      <td>Europe</td>\n",
       "      <td>Europe</td>\n",
       "      <td>South America</td>\n",
       "      <td>1994</td>\n",
       "      <td>USA</td>\n",
       "      <td>Brazil</td>\n",
       "      <td>Italy</td>\n",
       "      <td>Sweden</td>\n",
       "      <td>Bulgaria</td>\n",
       "      <td>141</td>\n",
       "      <td>24</td>\n",
       "      <td>52</td>\n",
       "      <td>94194</td>\n",
       "    </tr>\n",
       "    <tr>\n",
       "      <th>3</th>\n",
       "      <td>Europe</td>\n",
       "      <td>Europe</td>\n",
       "      <td>Europe</td>\n",
       "      <td>Europe</td>\n",
       "      <td>1982</td>\n",
       "      <td>Spain</td>\n",
       "      <td>Italy</td>\n",
       "      <td>Germany FR</td>\n",
       "      <td>Poland</td>\n",
       "      <td>France</td>\n",
       "      <td>146</td>\n",
       "      <td>24</td>\n",
       "      <td>52</td>\n",
       "      <td>90000</td>\n",
       "    </tr>\n",
       "    <tr>\n",
       "      <th>4</th>\n",
       "      <td>Europe</td>\n",
       "      <td>South America</td>\n",
       "      <td>Europe</td>\n",
       "      <td>South America</td>\n",
       "      <td>1978</td>\n",
       "      <td>Argentina</td>\n",
       "      <td>Argentina</td>\n",
       "      <td>Netherlands</td>\n",
       "      <td>Brazil</td>\n",
       "      <td>Italy</td>\n",
       "      <td>102</td>\n",
       "      <td>16</td>\n",
       "      <td>38</td>\n",
       "      <td>71483</td>\n",
       "    </tr>\n",
       "  </tbody>\n",
       "</table>\n",
       "</div>"
      ],
      "text/plain": [
       "  Fourth Continent Third Continent Runners-Up Continent Winner Continent  \\\n",
       "0           Europe          Europe               Europe           Europe   \n",
       "1           Europe          Europe               Europe    South America   \n",
       "2           Europe          Europe               Europe    South America   \n",
       "3           Europe          Europe               Europe           Europe   \n",
       "4           Europe   South America               Europe    South America   \n",
       "\n",
       "   Year Host Country     Winner      Runners-Up    Third    Fourth  \\\n",
       "0  1934        Italy      Italy  Czechoslovakia  Germany   Austria   \n",
       "1  1986       Mexico  Argentina      Germany FR   France   Belgium   \n",
       "2  1994          USA     Brazil           Italy   Sweden  Bulgaria   \n",
       "3  1982        Spain      Italy      Germany FR   Poland    France   \n",
       "4  1978    Argentina  Argentina     Netherlands   Brazil     Italy   \n",
       "\n",
       "   GoalsScored  QualifiedTeams  MatchesPlayed  Attendance  \n",
       "0           70              16             17       55000  \n",
       "1          132              24             52      114600  \n",
       "2          141              24             52       94194  \n",
       "3          146              24             52       90000  \n",
       "4          102              16             38       71483  "
      ]
     },
     "execution_count": 368,
     "metadata": {},
     "output_type": "execute_result"
    }
   ],
   "source": [
    "columns = ['Winner', 'Runners-Up', 'Third', 'Fourth']\n",
    "\n",
    "for column in columns:\n",
    "    worldCup_clean_df= pd.merge(continent, worldCup_clean_df, right_on = column, left_on = 'Country')\n",
    "    worldCup_clean_df.drop('Country', axis = 1, inplace = True)\n",
    "    new_name = column + ' Continent'\n",
    "    worldCup_clean_df.rename(columns = {'Continent': new_name}, inplace = True)\n",
    "\n",
    "worldCup_clean_df.head()"
   ]
  },
  {
   "cell_type": "code",
   "execution_count": 369,
   "id": "6ab0e10e",
   "metadata": {},
   "outputs": [
    {
     "name": "stdout",
     "output_type": "stream",
     "text": [
      "<class 'pandas.core.frame.DataFrame'>\n",
      "Int64Index: 20 entries, 0 to 19\n",
      "Data columns (total 14 columns):\n",
      " #   Column                Non-Null Count  Dtype \n",
      "---  ------                --------------  ----- \n",
      " 0   Fourth Continent      20 non-null     object\n",
      " 1   Third Continent       20 non-null     object\n",
      " 2   Runners-Up Continent  20 non-null     object\n",
      " 3   Winner Continent      20 non-null     object\n",
      " 4   Year                  20 non-null     int64 \n",
      " 5   Host Country          20 non-null     object\n",
      " 6   Winner                20 non-null     object\n",
      " 7   Runners-Up            20 non-null     object\n",
      " 8   Third                 20 non-null     object\n",
      " 9   Fourth                20 non-null     object\n",
      " 10  GoalsScored           20 non-null     int64 \n",
      " 11  QualifiedTeams        20 non-null     int64 \n",
      " 12  MatchesPlayed         20 non-null     int64 \n",
      " 13  Attendance            20 non-null     int64 \n",
      "dtypes: int64(5), object(9)\n",
      "memory usage: 2.3+ KB\n"
     ]
    }
   ],
   "source": [
    "worldCup_clean_df.info()"
   ]
  },
  {
   "cell_type": "markdown",
   "id": "b18cb32a",
   "metadata": {},
   "source": [
    "## Univariate Exploration"
   ]
  },
  {
   "cell_type": "markdown",
   "id": "d733e05e",
   "metadata": {},
   "source": [
    "### What number of counties from the different continents have participated in the FIFA World Cup?"
   ]
  },
  {
   "cell_type": "code",
   "execution_count": 338,
   "id": "9e955054",
   "metadata": {},
   "outputs": [],
   "source": [
    "top_participants_continent = (matches_clean_df\n",
    "                   .groupby(['Year', 'Away Team Name', 'Away Team Continent'], as_index=False)\n",
    "                   .count()['Away Team Continent']\n",
    "                   .value_counts()\n",
    "                   .head()\n",
    "                  )"
   ]
  },
  {
   "cell_type": "code",
   "execution_count": 339,
   "id": "d7a53079",
   "metadata": {
    "scrolled": true
   },
   "outputs": [
    {
     "data": {
      "text/plain": [
       "Europe           210\n",
       "South America     73\n",
       "Asia              44\n",
       "North America     39\n",
       "Africa            39\n",
       "Name: Away Team Continent, dtype: int64"
      ]
     },
     "metadata": {},
     "output_type": "display_data"
    },
    {
     "name": "stderr",
     "output_type": "stream",
     "text": [
      "C:\\Users\\Anele\\anaconda3\\lib\\site-packages\\seaborn\\_decorators.py:36: FutureWarning: Pass the following variables as keyword args: x, y. From version 0.12, the only valid positional argument will be `data`, and passing other arguments without an explicit keyword will result in an error or misinterpretation.\n",
      "  warnings.warn(\n"
     ]
    },
    {
     "data": {
      "image/png": "[encoded data removed]",
      "text/plain": [
       "<Figure size 432x288 with 1 Axes>"
      ]
     },
     "metadata": {
      "needs_background": "light"
     },
     "output_type": "display_data"
    }
   ],
   "source": [
    "base_color = sb.color_palette()[1]\n",
    "display(top_participants_continent)\n",
    "sb.barplot(top_participants_continent.index, top_participants_continent, color=base_color)\n",
    "plt.xlabel('Continent')\n",
    "plt.ylabel('Number of Appearance')\n",
    "plt.title('Different Country Appearances in the FIFA World Cup by Continent');"
   ]
  },
  {
   "cell_type": "markdown",
   "id": "540a9eac",
   "metadata": {},
   "source": [
    "As displayed by the graph above the Countries from the Europe continet have the most apperances in the FIFA World Cup over the years."
   ]
  },
  {
   "cell_type": "markdown",
   "id": "99d07173",
   "metadata": {},
   "source": [
    "### How does participation change over the past tournaments?"
   ]
  },
  {
   "cell_type": "code",
   "execution_count": 370,
   "id": "d3ddb086",
   "metadata": {},
   "outputs": [
    {
     "data": {
      "text/plain": [
       "Year\n",
       "1930     590549\n",
       "1934     363000\n",
       "1938     375700\n",
       "1950    1045246\n",
       "1954     768607\n",
       "Name: Attendance, dtype: int32"
      ]
     },
     "metadata": {},
     "output_type": "display_data"
    },
    {
     "data": {
      "image/png": "[encoded data removed]",
      "text/plain": [
       "<Figure size 432x288 with 1 Axes>"
      ]
     },
     "metadata": {
      "needs_background": "light"
     },
     "output_type": "display_data"
    }
   ],
   "source": [
    "data = matches_clean_df.groupby(['Year'], as_index=True).sum()['Attendance']\n",
    "display(data.head())\n",
    "data.plot()\n",
    "plt.title('The Distribution of Participation Per Year');"
   ]
  },
  {
   "cell_type": "markdown",
   "id": "8fd86225",
   "metadata": {},
   "source": [
    "The graph above displays the number of people who attended the  FIFA Workd Cup tournament over the years, as we can see that the numbers have been increasing over the years but in some years it has dropped from the previous year and then increase again the following year."
   ]
  },
  {
   "cell_type": "markdown",
   "id": "05b334cc",
   "metadata": {},
   "source": [
    "### What number of countries have taken part in the FIFA World Cup?"
   ]
  },
  {
   "cell_type": "code",
   "execution_count": 341,
   "id": "bdb0b36e",
   "metadata": {},
   "outputs": [],
   "source": [
    "top_participants_countries = (matches_clean_df\n",
    "                   .groupby(['Year', 'Away Team Name'], as_index = False)\n",
    "                   .count()['Away Team Name']\n",
    "                   .value_counts()\n",
    "                   .head()\n",
    "                  )"
   ]
  },
  {
   "cell_type": "code",
   "execution_count": 342,
   "id": "e9cd5d2c",
   "metadata": {},
   "outputs": [
    {
     "name": "stdout",
     "output_type": "stream",
     "text": [
      "This is the number of countries that have participated in the FIFA World Cup\n",
      "83\n"
     ]
    },
    {
     "data": {
      "text/plain": [
       "Argentina    16\n",
       "Brazil       15\n",
       "Mexico       15\n",
       "Italy        14\n",
       "France       14\n",
       "Name: Away Team Name, dtype: int64"
      ]
     },
     "metadata": {},
     "output_type": "display_data"
    },
    {
     "name": "stderr",
     "output_type": "stream",
     "text": [
      "C:\\Users\\Anele\\anaconda3\\lib\\site-packages\\seaborn\\_decorators.py:36: FutureWarning: Pass the following variables as keyword args: x, y. From version 0.12, the only valid positional argument will be `data`, and passing other arguments without an explicit keyword will result in an error or misinterpretation.\n",
      "  warnings.warn(\n"
     ]
    },
    {
     "data": {
      "image/png": "[encoded data removed]",
      "text/plain": [
       "<Figure size 432x288 with 1 Axes>"
      ]
     },
     "metadata": {
      "needs_background": "light"
     },
     "output_type": "display_data"
    }
   ],
   "source": [
    "print(\"This is the number of countries that have participated in the FIFA World Cup\")\n",
    "print(len(matches_clean_df['Away Team Name'].unique()))\n",
    "display(top_participants_countries)\n",
    "sb.barplot(top_participants_countries.index, top_participants_countries, color = sb.color_palette()[2])\n",
    "plt.xlabel('Countries')\n",
    "plt.ylabel('Number of Appearance')\n",
    "plt.title('Countries that participated in the FIFA World Cup');"
   ]
  },
  {
   "cell_type": "markdown",
   "id": "93094324",
   "metadata": {},
   "source": [
    "The bar graph above displays the number of different countries apperances in the FIFA tournament over the years with Agentina having the most apperances and the total number of countries that have participated is 83."
   ]
  },
  {
   "cell_type": "markdown",
   "id": "f10f3d7f",
   "metadata": {},
   "source": [
    "### What is the recurrence of the matches played each month?"
   ]
  },
  {
   "cell_type": "code",
   "execution_count": 343,
   "id": "47d8eda2",
   "metadata": {},
   "outputs": [
    {
     "data": {
      "image/png": "[encoded data removed]",
      "text/plain": [
       "<Figure size 432x288 with 1 Axes>"
      ]
     },
     "metadata": {
      "needs_background": "light"
     },
     "output_type": "display_data"
    }
   ],
   "source": [
    "sb.countplot(data=matches_clean_df, x='Month', color = sb.color_palette()[3])\n",
    "plt.title('Recurrence of Matches Played Per Month');"
   ]
  },
  {
   "cell_type": "markdown",
   "id": "ee887323",
   "metadata": {},
   "source": [
    "The graph above shows us that most of the matches are played in June over the years in the FIFA World Cup tournament."
   ]
  },
  {
   "cell_type": "markdown",
   "id": "57ad0c8e",
   "metadata": {},
   "source": [
    "### Which country has facilitated the World Cup the most?"
   ]
  },
  {
   "cell_type": "code",
   "execution_count": 344,
   "id": "5ced8395",
   "metadata": {},
   "outputs": [
    {
     "data": {
      "text/plain": [
       "Italy     2\n",
       "Mexico    2\n",
       "France    2\n",
       "Name: Host Country, dtype: int64"
      ]
     },
     "metadata": {},
     "output_type": "display_data"
    },
    {
     "name": "stderr",
     "output_type": "stream",
     "text": [
      "C:\\Users\\Anele\\anaconda3\\lib\\site-packages\\seaborn\\_decorators.py:36: FutureWarning: Pass the following variables as keyword args: x, y. From version 0.12, the only valid positional argument will be `data`, and passing other arguments without an explicit keyword will result in an error or misinterpretation.\n",
      "  warnings.warn(\n"
     ]
    },
    {
     "data": {
      "image/png": "[encoded data removed]",
      "text/plain": [
       "<Figure size 432x288 with 1 Axes>"
      ]
     },
     "metadata": {
      "needs_background": "light"
     },
     "output_type": "display_data"
    }
   ],
   "source": [
    "data2 = worldCup_clean_df['Host Country'].value_counts()\n",
    "display(data2.head(3))\n",
    "sb.barplot(data2, data2.index, color = sb.color_palette()[4])\n",
    "plt.xticks([1, 2])\n",
    "plt.xlabel('')\n",
    "plt.title('Number of time each country has facilitated the World Cup');"
   ]
  },
  {
   "cell_type": "markdown",
   "id": "86bcea13",
   "metadata": {},
   "source": [
    "Above graph displays that Italy, Mexico, France, Germany anad Brazil have facilitated the FIFA World Cup tornament 2 times as Korea and Japan joint facilitated it once, other countries have facilitated the tournament once as well."
   ]
  },
  {
   "cell_type": "markdown",
   "id": "3f1d8001",
   "metadata": {},
   "source": [
    "### Which coach holds the most record of games managed?"
   ]
  },
  {
   "cell_type": "code",
   "execution_count": 345,
   "id": "597db888",
   "metadata": {},
   "outputs": [],
   "source": [
    "# drop duplicated matches to a new variable\n",
    "\n",
    "data_frame = players_df.drop_duplicates(['MatchID', 'Team Initials'])"
   ]
  },
  {
   "cell_type": "code",
   "execution_count": 346,
   "id": "4739bc06",
   "metadata": {},
   "outputs": [
    {
     "data": {
      "text/plain": [
       "SCHOEN Helmut (FRG)              25\n",
       "PARREIRA Carlos Alberto (BRA)    23\n",
       "SCOLARI Luiz Felipe (BRA)        21\n",
       "ZAGALLO Mario (BRA)              20\n",
       "MILUTINOVIC Bora (YUG)           20\n",
       "Name: Coach Name, dtype: int64"
      ]
     },
     "metadata": {},
     "output_type": "display_data"
    },
    {
     "name": "stderr",
     "output_type": "stream",
     "text": [
      "C:\\Users\\Anele\\anaconda3\\lib\\site-packages\\seaborn\\_decorators.py:36: FutureWarning: Pass the following variables as keyword args: x, y. From version 0.12, the only valid positional argument will be `data`, and passing other arguments without an explicit keyword will result in an error or misinterpretation.\n",
      "  warnings.warn(\n"
     ]
    },
    {
     "data": {
      "image/png": "[encoded data removed]",
      "text/plain": [
       "<Figure size 432x288 with 1 Axes>"
      ]
     },
     "metadata": {
      "needs_background": "light"
     },
     "output_type": "display_data"
    }
   ],
   "source": [
    "coach = data_frame['Coach Name'].value_counts().head(5)\n",
    "display(coach) \n",
    "sb.barplot(coach, coach.index, color = sb.color_palette()[5]);\n",
    "plt.xlabel('Number of matches managed')\n",
    "plt.title('Team coach with most games managed');"
   ]
  },
  {
   "cell_type": "markdown",
   "id": "55814e7f",
   "metadata": {},
   "source": [
    "Above graph displays that Schoen Helmut is the coach with the most game managed."
   ]
  },
  {
   "cell_type": "markdown",
   "id": "b52e6fe1",
   "metadata": {},
   "source": [
    "### Which player has the highest number of matches played?"
   ]
  },
  {
   "cell_type": "code",
   "execution_count": 347,
   "id": "a28bb469",
   "metadata": {},
   "outputs": [
    {
     "data": {
      "text/plain": [
       "Player Name\n",
       "RONALDO        33\n",
       "KLOSE          32\n",
       "M�LLER         28\n",
       "OSCAR          28\n",
       "JULIO CESAR    26\n",
       "Name: RoundID, dtype: int64"
      ]
     },
     "metadata": {},
     "output_type": "display_data"
    },
    {
     "name": "stderr",
     "output_type": "stream",
     "text": [
      "C:\\Users\\Anele\\anaconda3\\lib\\site-packages\\seaborn\\_decorators.py:36: FutureWarning: Pass the following variables as keyword args: x, y. From version 0.12, the only valid positional argument will be `data`, and passing other arguments without an explicit keyword will result in an error or misinterpretation.\n",
      "  warnings.warn(\n"
     ]
    },
    {
     "data": {
      "image/png": "[encoded data removed]",
      "text/plain": [
       "<Figure size 432x288 with 1 Axes>"
      ]
     },
     "metadata": {
      "needs_background": "light"
     },
     "output_type": "display_data"
    }
   ],
   "source": [
    "sum(players_df.duplicated(['MatchID', 'Player Name']))\n",
    "player_match = (players_df\n",
    "                .groupby(['Player Name'])\n",
    "                .count()['RoundID']\n",
    "                .sort_values(ascending = False)\n",
    "                .head()\n",
    "               )\n",
    "display(player_match)\n",
    "sb.barplot(player_match.index, player_match, color = sb.color_palette()[6]);\n",
    "plt.ylabel('Number of player apperances')\n",
    "plt.title('Number of matches played by different players');"
   ]
  },
  {
   "cell_type": "markdown",
   "id": "6b1ed507",
   "metadata": {},
   "source": [
    "## Bivariate Exploration"
   ]
  },
  {
   "cell_type": "markdown",
   "id": "4025750a",
   "metadata": {},
   "source": [
    "### What impact does a country's continent have on the appearance of spectators?"
   ]
  },
  {
   "cell_type": "code",
   "execution_count": 348,
   "id": "fd180d6b",
   "metadata": {},
   "outputs": [
    {
     "data": {
      "image/png": "[encoded data removed]",
      "text/plain": [
       "<Figure size 576x288 with 1 Axes>"
      ]
     },
     "metadata": {
      "needs_background": "light"
     },
     "output_type": "display_data"
    }
   ],
   "source": [
    "display_color = sb.color_palette()[7]\n",
    "plt.figure(figsize = (8, 4))\n",
    "sb.stripplot(data = matches_clean_df, x = 'Home Team Continent', y = 'Attendance', color = display_color, jitter = 0.35)\n",
    "plt.xticks(rotation = 15);"
   ]
  },
  {
   "cell_type": "code",
   "execution_count": 349,
   "id": "a55b51a6",
   "metadata": {},
   "outputs": [
    {
     "data": {
      "image/png": "[encoded data removed]",
      "text/plain": [
       "<Figure size 576x288 with 1 Axes>"
      ]
     },
     "metadata": {
      "needs_background": "light"
     },
     "output_type": "display_data"
    }
   ],
   "source": [
    "plt.figure(figsize = (8, 4))\n",
    "sb.boxplot(data = matches_clean_df, x = 'Home Team Continent', y = 'Attendance', color = display_color)\n",
    "plt.xticks(rotation = 15);"
   ]
  },
  {
   "cell_type": "code",
   "execution_count": 350,
   "id": "3b0a7271",
   "metadata": {},
   "outputs": [
    {
     "data": {
      "image/png": "[encoded data removed]",
      "text/plain": [
       "<Figure size 576x288 with 1 Axes>"
      ]
     },
     "metadata": {
      "needs_background": "light"
     },
     "output_type": "display_data"
    }
   ],
   "source": [
    "plt.figure(figsize = (8, 4))\n",
    "sb.violinplot(data = matches_clean_df, x = 'Home Team Continent', y = 'Attendance', color = display_color, inner = None)\n",
    "plt.xticks(rotation = 15);"
   ]
  },
  {
   "cell_type": "markdown",
   "id": "ca68eeec",
   "metadata": {},
   "source": [
    "Displayed on the graphs above countries in South America has better turn out of spectators than others over the years of the FIFA World Cup tournament."
   ]
  },
  {
   "cell_type": "markdown",
   "id": "88c498eb",
   "metadata": {},
   "source": [
    "### Which month is the FIFA World Cup Final played the most?"
   ]
  },
  {
   "cell_type": "code",
   "execution_count": 351,
   "id": "36c6f6d2",
   "metadata": {},
   "outputs": [
    {
     "data": {
      "image/png": "[encoded data removed]",
      "text/plain": [
       "<Figure size 432x288 with 1 Axes>"
      ]
     },
     "metadata": {
      "needs_background": "light"
     },
     "output_type": "display_data"
    }
   ],
   "source": [
    "final_matches = matches_clean_df.loc[matches_clean_df['Stage'] == 'Final']\n",
    "sb.countplot(data = final_matches, x = 'Month', color = sb.color_palette()[8])\n",
    "plt.ylabel('Recurrence')\n",
    "plt.title('Months Associated with FIFA World Cup Final');"
   ]
  },
  {
   "cell_type": "markdown",
   "id": "ec1419bb",
   "metadata": {},
   "source": [
    "Bar graph above displays the months that the tournament finals in, as we can see over the years of the tournament the final is mostly played in the Month of July. "
   ]
  },
  {
   "cell_type": "markdown",
   "id": "4a72c425",
   "metadata": {},
   "source": [
    "## Multivariate Exploration"
   ]
  },
  {
   "cell_type": "markdown",
   "id": "4523f1d9",
   "metadata": {},
   "source": [
    "### Which country has the highest number of FIFA World Cup trophies?"
   ]
  },
  {
   "cell_type": "code",
   "execution_count": 352,
   "id": "9c3e28fd",
   "metadata": {},
   "outputs": [
    {
     "data": {
      "text/plain": [
       "Brazil        5\n",
       "Italy         4\n",
       "Germany FR    3\n",
       "Argentina     2\n",
       "Uruguay       2\n",
       "Name: Winner, dtype: int64"
      ]
     },
     "metadata": {},
     "output_type": "display_data"
    },
    {
     "data": {
      "image/png": "[encoded data removed]",
      "text/plain": [
       "<Figure size 432x288 with 1 Axes>"
      ]
     },
     "metadata": {
      "needs_background": "light"
     },
     "output_type": "display_data"
    }
   ],
   "source": [
    "winners = worldCup_clean_df.Winner.value_counts()\n",
    "display(winners.head())\n",
    "sb.countplot(data = worldCup_clean_df, y ='Winner', hue = 'Winner Continent', order = winners.index, color = sb.color_palette()[9] )\n",
    "plt.title('Country with most FIFA World Cup titles');"
   ]
  },
  {
   "cell_type": "markdown",
   "id": "239b24c0",
   "metadata": {},
   "source": [
    "The above graph displays that Brazil a country in South America has the most FIFA World Cup trophies than other countries over the years of the tournament."
   ]
  },
  {
   "cell_type": "markdown",
   "id": "389ec65c",
   "metadata": {},
   "source": [
    "### What is the highest goal scored in a single match by a away team?"
   ]
  },
  {
   "cell_type": "code",
   "execution_count": 353,
   "id": "cdd10416",
   "metadata": {},
   "outputs": [
    {
     "data": {
      "text/html": [
       "<div>\n",
       "<style scoped>\n",
       "    .dataframe tbody tr th:only-of-type {\n",
       "        vertical-align: middle;\n",
       "    }\n",
       "\n",
       "    .dataframe tbody tr th {\n",
       "        vertical-align: top;\n",
       "    }\n",
       "\n",
       "    .dataframe thead th {\n",
       "        text-align: right;\n",
       "    }\n",
       "</style>\n",
       "<table border=\"1\" class=\"dataframe\">\n",
       "  <thead>\n",
       "    <tr style=\"text-align: right;\">\n",
       "      <th></th>\n",
       "      <th>Away Team Name</th>\n",
       "      <th>Away Team Goals</th>\n",
       "      <th>Away Team Continent</th>\n",
       "    </tr>\n",
       "  </thead>\n",
       "  <tbody>\n",
       "    <tr>\n",
       "      <th>221</th>\n",
       "      <td>Germany</td>\n",
       "      <td>7</td>\n",
       "      <td>Europe</td>\n",
       "    </tr>\n",
       "    <tr>\n",
       "      <th>306</th>\n",
       "      <td>Poland</td>\n",
       "      <td>7</td>\n",
       "      <td>Europe</td>\n",
       "    </tr>\n",
       "    <tr>\n",
       "      <th>349</th>\n",
       "      <td>Spain</td>\n",
       "      <td>5</td>\n",
       "      <td>Europe</td>\n",
       "    </tr>\n",
       "  </tbody>\n",
       "</table>\n",
       "</div>"
      ],
      "text/plain": [
       "    Away Team Name  Away Team Goals Away Team Continent\n",
       "221        Germany                7              Europe\n",
       "306         Poland                7              Europe\n",
       "349          Spain                5              Europe"
      ]
     },
     "metadata": {},
     "output_type": "display_data"
    },
    {
     "data": {
      "image/png": "[encoded data removed]",
      "text/plain": [
       "<Figure size 648x432 with 1 Axes>"
      ]
     },
     "metadata": {
      "needs_background": "light"
     },
     "output_type": "display_data"
    }
   ],
   "source": [
    "away_team_goals = (matches_clean_df\n",
    "                   .sort_values(by = 'Away Team Goals', ascending=False)\n",
    "                   [['Away Team Name', 'Away Team Goals', 'Away Team Continent']].head(10)\n",
    "                  )\n",
    "display(away_team_goals.head(3)) \n",
    "plt.figure(figsize = (9, 6))\n",
    "sb.barplot(data = away_team_goals, y = 'Away Team Name', x = 'Away Team Goals', hue = 'Away Team Continent', color = sb.color_palette()[3])\n",
    "plt.title('Highest Goal Scored in a single match by a Away Team');"
   ]
  },
  {
   "cell_type": "markdown",
   "id": "94349804",
   "metadata": {},
   "source": [
    "As displayed by the graph above Germany highest Goal Scored in a single match by a Away Team in th Fifa World Cup tournament."
   ]
  },
  {
   "cell_type": "markdown",
   "id": "55541580",
   "metadata": {},
   "source": [
    "### How does the attendance fluctuate over the past finals?"
   ]
  },
  {
   "cell_type": "code",
   "execution_count": 371,
   "id": "63b6a2cd",
   "metadata": {},
   "outputs": [
    {
     "data": {
      "text/plain": [
       "Year\n",
       "1930     68346\n",
       "1934     55000\n",
       "1938     45000\n",
       "1950    173850\n",
       "1954     62500\n",
       "Name: Attendance, dtype: int64"
      ]
     },
     "metadata": {},
     "output_type": "display_data"
    },
    {
     "data": {
      "image/png": "[encoded data removed]",
      "text/plain": [
       "<Figure size 432x288 with 1 Axes>"
      ]
     },
     "metadata": {
      "needs_background": "light"
     },
     "output_type": "display_data"
    }
   ],
   "source": [
    "data3 = worldCup_clean_df.groupby(['Year'], as_index = True).sum()['Attendance']\n",
    "display(data3.head())\n",
    "data3.plot()\n",
    "plt.title('The Distribution of Final Match Attendance Per Year');"
   ]
  },
  {
   "cell_type": "markdown",
   "id": "82ef6a38",
   "metadata": {},
   "source": [
    "## Conclusions"
   ]
  },
  {
   "cell_type": "markdown",
   "id": "f5b7eac9",
   "metadata": {},
   "source": [
    "In conclusion to the project I learnt alot as I was analysing and visualizing these datasets, I managed to retrieve information I was not aware of such as and answered few questions such as:\n",
    "- Countries from the Europe continet have the most apperances in the FIFA World Cup over the years.\n",
    "- The number of people who attended the FIFA World Cup tournament over the years, the numbers have been increasing over the years but in some years it has dropped from the previous year and then increase again the following year.\n",
    "- The number of different countries apperances in the FIFA tournament over the years with Agentina having the most apperances and the total number of countries that have participated is 83.\n",
    "- Italy, Mexico, France, Germany and Brazil have facilitated the FIFA World Cup tornament 2 times as Korea and Japan joint facilitated it once, other countries that have facilitated the tournament have done it once.\n",
    "- Brazil a country in South America has the most FIFA World Cup trophies than other countries over the years of the tournament.\n",
    "- RONALDO has the highest number of match played."
   ]
  },
  {
   "cell_type": "code",
   "execution_count": null,
   "id": "0892514e",
   "metadata": {},
   "outputs": [],
   "source": []
  }
 ],
 "metadata": {
  "kernelspec": {
   "display_name": "Python 3 (ipykernel)",
   "language": "python",
   "name": "python3"
  },
  "language_info": {
   "codemirror_mode": {
    "name": "ipython",
    "version": 3
   },
   "file_extension": ".py",
   "mimetype": "text/x-python",
   "name": "python",
   "nbconvert_exporter": "python",
   "pygments_lexer": "ipython3",
   "version": "3.9.12"
  }
 },
 "nbformat": 4,
 "nbformat_minor": 5
}
